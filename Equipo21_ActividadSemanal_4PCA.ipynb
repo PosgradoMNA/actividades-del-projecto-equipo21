{
  "cells": [
    {
      "cell_type": "markdown",
      "metadata": {
        "id": "view-in-github",
        "colab_type": "text"
      },
      "source": [
        "<a href=\"https://colab.research.google.com/github/PosgradoMNA/actividades-del-projecto-equipo21/blob/main/Equipo21_ActividadSemanal_4PCA.ipynb\" target=\"_parent\"><img src=\"https://colab.research.google.com/assets/colab-badge.svg\" alt=\"Open In Colab\"/></a>"
      ]
    },
    {
      "cell_type": "markdown",
      "source": [
        "#Ciencia y analítica de datos\n",
        "***Maestria en Inteligencia Artificial Aplicada***\n",
        "\n",
        "Actividad Semanal 4 Transformación y Reducción de datos parte 2\n",
        "\n",
        "Equipo 21\n",
        "Alumnos:\n",
        "\n",
        "Aurelio Antonio Lozano Rábago A01081266\n",
        "\n",
        "Javier Muñoz Barrios A01794423\n",
        "\n",
        "9 Octubre 2022"
      ],
      "metadata": {
        "id": "dD_ScAoapsU8"
      }
    },
    {
      "cell_type": "markdown",
      "metadata": {
        "id": "MYTkAs_9uJg8"
      },
      "source": [
        "# Dimension Reduction"
      ]
    },
    {
      "cell_type": "code",
      "execution_count": null,
      "metadata": {
        "id": "sk6RWfUnMn8S"
      },
      "outputs": [],
      "source": [
        "import pandas as pd\n",
        "import numpy as np"
      ]
    },
    {
      "cell_type": "markdown",
      "metadata": {
        "id": "PDgGqcpE3Zau"
      },
      "source": [
        "# Principal components analysis (PCA) \n",
        "\n",
        "* It is a useful method for dimension reduction, especially when the number of variables is large.\n",
        "* PCA is intended for use with numerical variables. \n",
        "   * For categorical variables, other methods such as correspondence analysis are more suitable. "
      ]
    },
    {
      "cell_type": "code",
      "execution_count": null,
      "metadata": {
        "id": "eZIIbxdR27FX"
      },
      "outputs": [],
      "source": [
        "Cereals = 'https://raw.githubusercontent.com/tec03/Datasets/main/datasets/Cereals.csv'"
      ]
    },
    {
      "cell_type": "code",
      "execution_count": null,
      "metadata": {
        "colab": {
          "base_uri": "https://localhost:8080/",
          "height": 411
        },
        "id": "x6I7njK8YHQO",
        "outputId": "873b1363-740d-49d0-c814-5bf353e7af68"
      },
      "outputs": [
        {
          "data": {
            "text/html": [
              "<div>\n",
              "<style scoped>\n",
              "    .dataframe tbody tr th:only-of-type {\n",
              "        vertical-align: middle;\n",
              "    }\n",
              "\n",
              "    .dataframe tbody tr th {\n",
              "        vertical-align: top;\n",
              "    }\n",
              "\n",
              "    .dataframe thead th {\n",
              "        text-align: right;\n",
              "    }\n",
              "</style>\n",
              "<table border=\"1\" class=\"dataframe\">\n",
              "  <thead>\n",
              "    <tr style=\"text-align: right;\">\n",
              "      <th></th>\n",
              "      <th>name</th>\n",
              "      <th>mfr</th>\n",
              "      <th>type</th>\n",
              "      <th>calories</th>\n",
              "      <th>protein</th>\n",
              "      <th>fat</th>\n",
              "      <th>sodium</th>\n",
              "      <th>fiber</th>\n",
              "      <th>carbo</th>\n",
              "      <th>sugars</th>\n",
              "      <th>potass</th>\n",
              "      <th>vitamins</th>\n",
              "      <th>shelf</th>\n",
              "      <th>weight</th>\n",
              "      <th>cups</th>\n",
              "      <th>rating</th>\n",
              "    </tr>\n",
              "  </thead>\n",
              "  <tbody>\n",
              "    <tr>\n",
              "      <th>0</th>\n",
              "      <td>100%_Bran</td>\n",
              "      <td>N</td>\n",
              "      <td>C</td>\n",
              "      <td>70</td>\n",
              "      <td>4</td>\n",
              "      <td>1</td>\n",
              "      <td>130</td>\n",
              "      <td>10.0</td>\n",
              "      <td>5.0</td>\n",
              "      <td>6.0</td>\n",
              "      <td>280.0</td>\n",
              "      <td>25</td>\n",
              "      <td>3</td>\n",
              "      <td>1.0</td>\n",
              "      <td>0.33</td>\n",
              "      <td>68.402973</td>\n",
              "    </tr>\n",
              "    <tr>\n",
              "      <th>1</th>\n",
              "      <td>100%_Natural_Bran</td>\n",
              "      <td>Q</td>\n",
              "      <td>C</td>\n",
              "      <td>120</td>\n",
              "      <td>3</td>\n",
              "      <td>5</td>\n",
              "      <td>15</td>\n",
              "      <td>2.0</td>\n",
              "      <td>8.0</td>\n",
              "      <td>8.0</td>\n",
              "      <td>135.0</td>\n",
              "      <td>0</td>\n",
              "      <td>3</td>\n",
              "      <td>1.0</td>\n",
              "      <td>1.00</td>\n",
              "      <td>33.983679</td>\n",
              "    </tr>\n",
              "    <tr>\n",
              "      <th>2</th>\n",
              "      <td>All-Bran</td>\n",
              "      <td>K</td>\n",
              "      <td>C</td>\n",
              "      <td>70</td>\n",
              "      <td>4</td>\n",
              "      <td>1</td>\n",
              "      <td>260</td>\n",
              "      <td>9.0</td>\n",
              "      <td>7.0</td>\n",
              "      <td>5.0</td>\n",
              "      <td>320.0</td>\n",
              "      <td>25</td>\n",
              "      <td>3</td>\n",
              "      <td>1.0</td>\n",
              "      <td>0.33</td>\n",
              "      <td>59.425505</td>\n",
              "    </tr>\n",
              "    <tr>\n",
              "      <th>3</th>\n",
              "      <td>All-Bran_with_Extra_Fiber</td>\n",
              "      <td>K</td>\n",
              "      <td>C</td>\n",
              "      <td>50</td>\n",
              "      <td>4</td>\n",
              "      <td>0</td>\n",
              "      <td>140</td>\n",
              "      <td>14.0</td>\n",
              "      <td>8.0</td>\n",
              "      <td>0.0</td>\n",
              "      <td>330.0</td>\n",
              "      <td>25</td>\n",
              "      <td>3</td>\n",
              "      <td>1.0</td>\n",
              "      <td>0.50</td>\n",
              "      <td>93.704912</td>\n",
              "    </tr>\n",
              "    <tr>\n",
              "      <th>4</th>\n",
              "      <td>Almond_Delight</td>\n",
              "      <td>R</td>\n",
              "      <td>C</td>\n",
              "      <td>110</td>\n",
              "      <td>2</td>\n",
              "      <td>2</td>\n",
              "      <td>200</td>\n",
              "      <td>1.0</td>\n",
              "      <td>14.0</td>\n",
              "      <td>8.0</td>\n",
              "      <td>NaN</td>\n",
              "      <td>25</td>\n",
              "      <td>3</td>\n",
              "      <td>1.0</td>\n",
              "      <td>0.75</td>\n",
              "      <td>34.384843</td>\n",
              "    </tr>\n",
              "    <tr>\n",
              "      <th>...</th>\n",
              "      <td>...</td>\n",
              "      <td>...</td>\n",
              "      <td>...</td>\n",
              "      <td>...</td>\n",
              "      <td>...</td>\n",
              "      <td>...</td>\n",
              "      <td>...</td>\n",
              "      <td>...</td>\n",
              "      <td>...</td>\n",
              "      <td>...</td>\n",
              "      <td>...</td>\n",
              "      <td>...</td>\n",
              "      <td>...</td>\n",
              "      <td>...</td>\n",
              "      <td>...</td>\n",
              "      <td>...</td>\n",
              "    </tr>\n",
              "    <tr>\n",
              "      <th>72</th>\n",
              "      <td>Triples</td>\n",
              "      <td>G</td>\n",
              "      <td>C</td>\n",
              "      <td>110</td>\n",
              "      <td>2</td>\n",
              "      <td>1</td>\n",
              "      <td>250</td>\n",
              "      <td>0.0</td>\n",
              "      <td>21.0</td>\n",
              "      <td>3.0</td>\n",
              "      <td>60.0</td>\n",
              "      <td>25</td>\n",
              "      <td>3</td>\n",
              "      <td>1.0</td>\n",
              "      <td>0.75</td>\n",
              "      <td>39.106174</td>\n",
              "    </tr>\n",
              "    <tr>\n",
              "      <th>73</th>\n",
              "      <td>Trix</td>\n",
              "      <td>G</td>\n",
              "      <td>C</td>\n",
              "      <td>110</td>\n",
              "      <td>1</td>\n",
              "      <td>1</td>\n",
              "      <td>140</td>\n",
              "      <td>0.0</td>\n",
              "      <td>13.0</td>\n",
              "      <td>12.0</td>\n",
              "      <td>25.0</td>\n",
              "      <td>25</td>\n",
              "      <td>2</td>\n",
              "      <td>1.0</td>\n",
              "      <td>1.00</td>\n",
              "      <td>27.753301</td>\n",
              "    </tr>\n",
              "    <tr>\n",
              "      <th>74</th>\n",
              "      <td>Wheat_Chex</td>\n",
              "      <td>R</td>\n",
              "      <td>C</td>\n",
              "      <td>100</td>\n",
              "      <td>3</td>\n",
              "      <td>1</td>\n",
              "      <td>230</td>\n",
              "      <td>3.0</td>\n",
              "      <td>17.0</td>\n",
              "      <td>3.0</td>\n",
              "      <td>115.0</td>\n",
              "      <td>25</td>\n",
              "      <td>1</td>\n",
              "      <td>1.0</td>\n",
              "      <td>0.67</td>\n",
              "      <td>49.787445</td>\n",
              "    </tr>\n",
              "    <tr>\n",
              "      <th>75</th>\n",
              "      <td>Wheaties</td>\n",
              "      <td>G</td>\n",
              "      <td>C</td>\n",
              "      <td>100</td>\n",
              "      <td>3</td>\n",
              "      <td>1</td>\n",
              "      <td>200</td>\n",
              "      <td>3.0</td>\n",
              "      <td>17.0</td>\n",
              "      <td>3.0</td>\n",
              "      <td>110.0</td>\n",
              "      <td>25</td>\n",
              "      <td>1</td>\n",
              "      <td>1.0</td>\n",
              "      <td>1.00</td>\n",
              "      <td>51.592193</td>\n",
              "    </tr>\n",
              "    <tr>\n",
              "      <th>76</th>\n",
              "      <td>Wheaties_Honey_Gold</td>\n",
              "      <td>G</td>\n",
              "      <td>C</td>\n",
              "      <td>110</td>\n",
              "      <td>2</td>\n",
              "      <td>1</td>\n",
              "      <td>200</td>\n",
              "      <td>1.0</td>\n",
              "      <td>16.0</td>\n",
              "      <td>8.0</td>\n",
              "      <td>60.0</td>\n",
              "      <td>25</td>\n",
              "      <td>1</td>\n",
              "      <td>1.0</td>\n",
              "      <td>0.75</td>\n",
              "      <td>36.187559</td>\n",
              "    </tr>\n",
              "  </tbody>\n",
              "</table>\n",
              "<p>77 rows × 16 columns</p>\n",
              "</div>"
            ],
            "text/plain": [
              "                         name mfr type  calories  protein  fat  sodium  fiber  \\\n",
              "0                   100%_Bran   N    C        70        4    1     130   10.0   \n",
              "1           100%_Natural_Bran   Q    C       120        3    5      15    2.0   \n",
              "2                    All-Bran   K    C        70        4    1     260    9.0   \n",
              "3   All-Bran_with_Extra_Fiber   K    C        50        4    0     140   14.0   \n",
              "4              Almond_Delight   R    C       110        2    2     200    1.0   \n",
              "..                        ...  ..  ...       ...      ...  ...     ...    ...   \n",
              "72                    Triples   G    C       110        2    1     250    0.0   \n",
              "73                       Trix   G    C       110        1    1     140    0.0   \n",
              "74                 Wheat_Chex   R    C       100        3    1     230    3.0   \n",
              "75                   Wheaties   G    C       100        3    1     200    3.0   \n",
              "76        Wheaties_Honey_Gold   G    C       110        2    1     200    1.0   \n",
              "\n",
              "    carbo  sugars  potass  vitamins  shelf  weight  cups     rating  \n",
              "0     5.0     6.0   280.0        25      3     1.0  0.33  68.402973  \n",
              "1     8.0     8.0   135.0         0      3     1.0  1.00  33.983679  \n",
              "2     7.0     5.0   320.0        25      3     1.0  0.33  59.425505  \n",
              "3     8.0     0.0   330.0        25      3     1.0  0.50  93.704912  \n",
              "4    14.0     8.0     NaN        25      3     1.0  0.75  34.384843  \n",
              "..    ...     ...     ...       ...    ...     ...   ...        ...  \n",
              "72   21.0     3.0    60.0        25      3     1.0  0.75  39.106174  \n",
              "73   13.0    12.0    25.0        25      2     1.0  1.00  27.753301  \n",
              "74   17.0     3.0   115.0        25      1     1.0  0.67  49.787445  \n",
              "75   17.0     3.0   110.0        25      1     1.0  1.00  51.592193  \n",
              "76   16.0     8.0    60.0        25      1     1.0  0.75  36.187559  \n",
              "\n",
              "[77 rows x 16 columns]"
            ]
          },
          "execution_count": 3,
          "metadata": {},
          "output_type": "execute_result"
        }
      ],
      "source": [
        "cereals_df = pd.read_csv(Cereals)\n",
        "df = cereals_df.copy()\n",
        "df"
      ]
    },
    {
      "cell_type": "code",
      "execution_count": null,
      "metadata": {
        "colab": {
          "base_uri": "https://localhost:8080/"
        },
        "id": "m4C4Vl9P6Mld",
        "outputId": "64717339-beb0-4b9f-aece-d38470c54ffa"
      },
      "outputs": [
        {
          "data": {
            "text/plain": [
              "(77, 16)"
            ]
          },
          "execution_count": 4,
          "metadata": {},
          "output_type": "execute_result"
        }
      ],
      "source": [
        "df.shape"
      ]
    },
    {
      "cell_type": "markdown",
      "metadata": {
        "id": "xAYdWuxn6rHb"
      },
      "source": [
        "For each cereal, the data include 13 numerical variables, and we are interested in reducing this dimension.\n",
        "\n",
        "Principal Component Analysis can tell you what variables in your data are the most important. "
      ]
    },
    {
      "cell_type": "markdown",
      "metadata": {
        "id": "nSRt0eGoMn8X"
      },
      "source": [
        "We focus first on two variables: `calories` and consumer `rating`: "
      ]
    },
    {
      "cell_type": "code",
      "execution_count": null,
      "metadata": {
        "colab": {
          "base_uri": "https://localhost:8080/",
          "height": 109
        },
        "id": "pwvuGk-13Itd",
        "outputId": "3976f628-cc49-4f2b-f8e5-ccb8047bcd7f"
      },
      "outputs": [
        {
          "data": {
            "text/html": [
              "<div>\n",
              "<style scoped>\n",
              "    .dataframe tbody tr th:only-of-type {\n",
              "        vertical-align: middle;\n",
              "    }\n",
              "\n",
              "    .dataframe tbody tr th {\n",
              "        vertical-align: top;\n",
              "    }\n",
              "\n",
              "    .dataframe thead th {\n",
              "        text-align: right;\n",
              "    }\n",
              "</style>\n",
              "<table border=\"1\" class=\"dataframe\">\n",
              "  <thead>\n",
              "    <tr style=\"text-align: right;\">\n",
              "      <th></th>\n",
              "      <th>calories</th>\n",
              "      <th>rating</th>\n",
              "    </tr>\n",
              "  </thead>\n",
              "  <tbody>\n",
              "    <tr>\n",
              "      <th>calories</th>\n",
              "      <td>1.000000</td>\n",
              "      <td>-0.689376</td>\n",
              "    </tr>\n",
              "    <tr>\n",
              "      <th>rating</th>\n",
              "      <td>-0.689376</td>\n",
              "      <td>1.000000</td>\n",
              "    </tr>\n",
              "  </tbody>\n",
              "</table>\n",
              "</div>"
            ],
            "text/plain": [
              "          calories    rating\n",
              "calories  1.000000 -0.689376\n",
              "rating   -0.689376  1.000000"
            ]
          },
          "execution_count": 5,
          "metadata": {},
          "output_type": "execute_result"
        }
      ],
      "source": [
        "ndf = df[['calories', 'rating']]\n",
        "ndf.corr()"
      ]
    },
    {
      "cell_type": "code",
      "execution_count": null,
      "metadata": {
        "id": "z6CyXNyuMn8Y",
        "outputId": "f95b1f3b-0e17-4fb2-dfea-9c0e8be145c2"
      },
      "outputs": [
        {
          "data": {
            "text/plain": [
              "106.88"
            ]
          },
          "execution_count": 6,
          "metadata": {},
          "output_type": "execute_result"
        }
      ],
      "source": [
        "df.calories.mean().round(2)"
      ]
    },
    {
      "cell_type": "code",
      "execution_count": null,
      "metadata": {
        "id": "AIDQMVROMn8Y",
        "outputId": "1fd93fee-8d0c-4c20-9bba-2a8abd3797f5"
      },
      "outputs": [
        {
          "data": {
            "text/plain": [
              "42.67"
            ]
          },
          "execution_count": 7,
          "metadata": {},
          "output_type": "execute_result"
        }
      ],
      "source": [
        "df.rating.mean().round(2)"
      ]
    },
    {
      "cell_type": "code",
      "execution_count": null,
      "metadata": {
        "id": "N7lk6mu7Mn8Z",
        "outputId": "c0f84dd8-bbe9-4ff5-8b86-0f84c6e14c57"
      },
      "outputs": [
        {
          "data": {
            "text/plain": [
              "array([[ 379.63089542, -188.68156228],\n",
              "       [-188.68156228,  197.32632105]])"
            ]
          },
          "execution_count": 8,
          "metadata": {},
          "output_type": "execute_result"
        }
      ],
      "source": [
        "Varience = np.cov([df.calories, df.rating])\n",
        "Varience"
      ]
    },
    {
      "cell_type": "code",
      "execution_count": null,
      "metadata": {
        "id": "Lw4dV0IoMn8Z",
        "outputId": "54684963-7b41-45b3-fc27-9cd8bab41708"
      },
      "outputs": [
        {
          "data": {
            "text/plain": [
              "576.9572164702394"
            ]
          },
          "execution_count": 9,
          "metadata": {},
          "output_type": "execute_result"
        }
      ],
      "source": [
        "ndf = df[['calories','rating']]\n",
        "ndf.var().sum()"
      ]
    },
    {
      "cell_type": "code",
      "execution_count": null,
      "metadata": {
        "id": "DFFoRJ82Mn8Z"
      },
      "outputs": [],
      "source": [
        "t= ndf.var().sum()\n",
        "varC =Varience[0][0]\n",
        "varR = Varience[1][1]"
      ]
    },
    {
      "cell_type": "code",
      "execution_count": null,
      "metadata": {
        "id": "Tt3ZofpXMn8a",
        "outputId": "ca84d6dc-4ebe-45e6-fd0d-458284f9ec90"
      },
      "outputs": [
        {
          "name": "stdout",
          "output_type": "stream",
          "text": [
            "Total Varience \t\t\t: 576.96\n",
            "Varience prop. of Calory \t: 65.8 %\n",
            "Varience prop. of Rating \t: 34.2 %\n"
          ]
        }
      ],
      "source": [
        "print('Total Varience \\t\\t\\t:', t.round(2) )\n",
        "print('Varience prop. of Calory \\t:', ((varC/t)*100).round(2),'%' )\n",
        "print('Varience prop. of Rating \\t:', ((varR/t)*100).round(2),'%' )"
      ]
    },
    {
      "cell_type": "markdown",
      "metadata": {
        "id": "ev8Gu1ulMn8a"
      },
      "source": [
        "If we drop `Rating` for the sake of dimension reduction, we lose at least 34% of the total variability. "
      ]
    },
    {
      "cell_type": "code",
      "execution_count": null,
      "metadata": {
        "id": "WRYL_tTvMn8a",
        "outputId": "350fb0c2-a509-4d4c-dd92-a8ef54568205"
      },
      "outputs": [
        {
          "data": {
            "text/html": [
              "<div>\n",
              "<style scoped>\n",
              "    .dataframe tbody tr th:only-of-type {\n",
              "        vertical-align: middle;\n",
              "    }\n",
              "\n",
              "    .dataframe tbody tr th {\n",
              "        vertical-align: top;\n",
              "    }\n",
              "\n",
              "    .dataframe thead th {\n",
              "        text-align: right;\n",
              "    }\n",
              "</style>\n",
              "<table border=\"1\" class=\"dataframe\">\n",
              "  <thead>\n",
              "    <tr style=\"text-align: right;\">\n",
              "      <th></th>\n",
              "      <th>calories</th>\n",
              "      <th>rating</th>\n",
              "    </tr>\n",
              "  </thead>\n",
              "  <tbody>\n",
              "    <tr>\n",
              "      <th>calories</th>\n",
              "      <td>1.00</td>\n",
              "      <td>-0.69</td>\n",
              "    </tr>\n",
              "    <tr>\n",
              "      <th>rating</th>\n",
              "      <td>-0.69</td>\n",
              "      <td>1.00</td>\n",
              "    </tr>\n",
              "  </tbody>\n",
              "</table>\n",
              "</div>"
            ],
            "text/plain": [
              "          calories  rating\n",
              "calories      1.00   -0.69\n",
              "rating       -0.69    1.00"
            ]
          },
          "execution_count": 12,
          "metadata": {},
          "output_type": "execute_result"
        }
      ],
      "source": [
        "ndf.corr().round(2)"
      ]
    },
    {
      "cell_type": "markdown",
      "metadata": {
        "id": "aRXbA6n-Mn8a"
      },
      "source": [
        "Roughly speaking, 69% of the total variation in both variables is actually “co-variation,” or variation in one variable that is duplicated by similar variation in the other variable. \n",
        "\n",
        "Can we use this fact to reduce the number of variables, while making maximum use of their unique contributions to the overall variation? \n",
        "\n",
        "Since there is redundancy in the information that the two variables contain, it might be possible to reduce the `two variables` to a `single variable` `without losing` `too much` information. \n",
        "\n",
        "The idea in PCA is to find a linear combination of the two variables that contains most, even if not all, of the information, so that this new variable can replace the two original variables.  "
      ]
    },
    {
      "cell_type": "markdown",
      "metadata": {
        "id": "TTIzQw5bMn8b"
      },
      "source": [
        "The line `z1 (first principal component = PC1)` is the direction in which the variability of the points is largest. \n",
        "\n",
        "The `z2 (second principal component = PC2)`-axis is chosen to be perpendicular to the z1-axis.  "
      ]
    },
    {
      "cell_type": "code",
      "execution_count": null,
      "metadata": {
        "id": "jEOhJk1Sg9fc"
      },
      "outputs": [],
      "source": [
        "import seaborn as sns"
      ]
    },
    {
      "cell_type": "code",
      "execution_count": null,
      "metadata": {
        "colab": {
          "base_uri": "https://localhost:8080/",
          "height": 305
        },
        "id": "LA1DY6SFgsCN",
        "outputId": "69913999-3639-40b0-a363-c055a17de5e5"
      },
      "outputs": [
        {
          "data": {
            "text/plain": [
              "<AxesSubplot:xlabel='calories', ylabel='rating'>"
            ]
          },
          "execution_count": 14,
          "metadata": {},
          "output_type": "execute_result"
        },
        {
          "data": {
            "image/png": "[encoded data removed]",
            "text/plain": [
              "<Figure size 432x288 with 1 Axes>"
            ]
          },
          "metadata": {
            "needs_background": "light"
          },
          "output_type": "display_data"
        }
      ],
      "source": [
        "p = sns.regplot(data = df,  \n",
        "                x = df.calories, \n",
        "                y = df.rating\n",
        "               ) \n",
        "p"
      ]
    },
    {
      "cell_type": "markdown",
      "metadata": {
        "id": "RtHrbeHxiVPX"
      },
      "source": [
        "The weights for z1 are given by (−0.847, 0.532): Means, when x axis move -0.847, y axis move 0.532 along regression (line fit) line. "
      ]
    },
    {
      "cell_type": "code",
      "execution_count": null,
      "metadata": {
        "id": "Nn3-e5zE3ouV"
      },
      "outputs": [],
      "source": [
        "import numpy as np\n",
        "from sklearn.decomposition import PCA"
      ]
    },
    {
      "cell_type": "code",
      "execution_count": null,
      "metadata": {
        "colab": {
          "base_uri": "https://localhost:8080/",
          "height": 109
        },
        "id": "MjLgwAOV3EIU",
        "outputId": "b480fb9f-e823-4088-9262-d94579dcdd08"
      },
      "outputs": [
        {
          "data": {
            "text/html": [
              "<div>\n",
              "<style scoped>\n",
              "    .dataframe tbody tr th:only-of-type {\n",
              "        vertical-align: middle;\n",
              "    }\n",
              "\n",
              "    .dataframe tbody tr th {\n",
              "        vertical-align: top;\n",
              "    }\n",
              "\n",
              "    .dataframe thead th {\n",
              "        text-align: right;\n",
              "    }\n",
              "</style>\n",
              "<table border=\"1\" class=\"dataframe\">\n",
              "  <thead>\n",
              "    <tr style=\"text-align: right;\">\n",
              "      <th></th>\n",
              "      <th>Standard deviation</th>\n",
              "      <th>Proportion of variance</th>\n",
              "      <th>Cumulative proportion</th>\n",
              "    </tr>\n",
              "  </thead>\n",
              "  <tbody>\n",
              "    <tr>\n",
              "      <th>0</th>\n",
              "      <td>22.316462</td>\n",
              "      <td>0.863191</td>\n",
              "      <td>0.863191</td>\n",
              "    </tr>\n",
              "    <tr>\n",
              "      <th>1</th>\n",
              "      <td>8.884410</td>\n",
              "      <td>0.136809</td>\n",
              "      <td>1.000000</td>\n",
              "    </tr>\n",
              "  </tbody>\n",
              "</table>\n",
              "</div>"
            ],
            "text/plain": [
              "   Standard deviation  Proportion of variance  Cumulative proportion\n",
              "0           22.316462                0.863191               0.863191\n",
              "1            8.884410                0.136809               1.000000"
            ]
          },
          "execution_count": 16,
          "metadata": {},
          "output_type": "execute_result"
        }
      ],
      "source": [
        "pcs = PCA(n_components=2)\n",
        "\n",
        "pcs.fit(df[['calories', 'rating']])\n",
        "\n",
        "pcsSummary = pd.DataFrame({'Standard deviation': np.sqrt(pcs.explained_variance_),\n",
        "                          'Proportion of variance': pcs.explained_variance_ratio_,\n",
        "                          'Cumulative proportion': np.cumsum(pcs.explained_variance_ratio_)#column \n",
        "                          }\n",
        "                          )\n",
        "pcsSummary"
      ]
    },
    {
      "cell_type": "code",
      "execution_count": null,
      "metadata": {
        "colab": {
          "base_uri": "https://localhost:8080/",
          "height": 140
        },
        "id": "2RXvhDOn3yRc",
        "outputId": "0eadf7a8-3d6e-4f99-a3b9-261715844b25"
      },
      "outputs": [
        {
          "data": {
            "text/html": [
              "<div>\n",
              "<style scoped>\n",
              "    .dataframe tbody tr th:only-of-type {\n",
              "        vertical-align: middle;\n",
              "    }\n",
              "\n",
              "    .dataframe tbody tr th {\n",
              "        vertical-align: top;\n",
              "    }\n",
              "\n",
              "    .dataframe thead th {\n",
              "        text-align: right;\n",
              "    }\n",
              "</style>\n",
              "<table border=\"1\" class=\"dataframe\">\n",
              "  <thead>\n",
              "    <tr style=\"text-align: right;\">\n",
              "      <th></th>\n",
              "      <th>0</th>\n",
              "      <th>1</th>\n",
              "    </tr>\n",
              "  </thead>\n",
              "  <tbody>\n",
              "    <tr>\n",
              "      <th>Standard deviation</th>\n",
              "      <td>22.32</td>\n",
              "      <td>8.88</td>\n",
              "    </tr>\n",
              "    <tr>\n",
              "      <th>Proportion of variance</th>\n",
              "      <td>0.86</td>\n",
              "      <td>0.14</td>\n",
              "    </tr>\n",
              "    <tr>\n",
              "      <th>Cumulative proportion</th>\n",
              "      <td>0.86</td>\n",
              "      <td>1.00</td>\n",
              "    </tr>\n",
              "  </tbody>\n",
              "</table>\n",
              "</div>"
            ],
            "text/plain": [
              "                            0     1\n",
              "Standard deviation      22.32  8.88\n",
              "Proportion of variance   0.86  0.14\n",
              "Cumulative proportion    0.86  1.00"
            ]
          },
          "execution_count": 17,
          "metadata": {},
          "output_type": "execute_result"
        }
      ],
      "source": [
        "pcsSummary = pcsSummary.transpose()\n",
        "pcsSummary.round(2)"
      ]
    },
    {
      "cell_type": "code",
      "execution_count": null,
      "metadata": {
        "colab": {
          "base_uri": "https://localhost:8080/",
          "height": 140
        },
        "id": "O9Y616c04NBl",
        "outputId": "0bb37e3b-7336-4b86-e0d0-202ebd5d735d"
      },
      "outputs": [
        {
          "data": {
            "text/html": [
              "<div>\n",
              "<style scoped>\n",
              "    .dataframe tbody tr th:only-of-type {\n",
              "        vertical-align: middle;\n",
              "    }\n",
              "\n",
              "    .dataframe tbody tr th {\n",
              "        vertical-align: top;\n",
              "    }\n",
              "\n",
              "    .dataframe thead th {\n",
              "        text-align: right;\n",
              "    }\n",
              "</style>\n",
              "<table border=\"1\" class=\"dataframe\">\n",
              "  <thead>\n",
              "    <tr style=\"text-align: right;\">\n",
              "      <th></th>\n",
              "      <th>PC1</th>\n",
              "      <th>PC2</th>\n",
              "    </tr>\n",
              "  </thead>\n",
              "  <tbody>\n",
              "    <tr>\n",
              "      <th>Standard deviation</th>\n",
              "      <td>22.3165</td>\n",
              "      <td>8.8844</td>\n",
              "    </tr>\n",
              "    <tr>\n",
              "      <th>Proportion of variance</th>\n",
              "      <td>0.8632</td>\n",
              "      <td>0.1368</td>\n",
              "    </tr>\n",
              "    <tr>\n",
              "      <th>Cumulative proportion</th>\n",
              "      <td>0.8632</td>\n",
              "      <td>1.0000</td>\n",
              "    </tr>\n",
              "  </tbody>\n",
              "</table>\n",
              "</div>"
            ],
            "text/plain": [
              "                            PC1     PC2\n",
              "Standard deviation      22.3165  8.8844\n",
              "Proportion of variance   0.8632  0.1368\n",
              "Cumulative proportion    0.8632  1.0000"
            ]
          },
          "execution_count": 18,
          "metadata": {},
          "output_type": "execute_result"
        }
      ],
      "source": [
        "pcsSummary.columns = ['PC1', 'PC2']\n",
        "pcsSummary = pcsSummary.round(4)\n",
        "pcsSummary"
      ]
    },
    {
      "cell_type": "markdown",
      "metadata": {
        "id": "f4_ceGbGMn8d"
      },
      "source": [
        "The summary gives the reallocated variance: \n",
        "* `z1` accounts for 86.32% of the total variability and \n",
        "* `z2` for the remaining 13.68%. \n",
        "\n",
        "Therefore, if we drop `z2 = PC2`, we still maintain 86.32% of the total variability. \n",
        "\n",
        "https://www.youtube.com/watch?v=FgakZw6K1QQ "
      ]
    },
    {
      "cell_type": "markdown",
      "metadata": {
        "id": "te_qIpXsMn8d"
      },
      "source": [
        "### Scree Plot"
      ]
    },
    {
      "cell_type": "code",
      "execution_count": null,
      "metadata": {
        "id": "NlVQIzehMn8d"
      },
      "outputs": [],
      "source": [
        "import matplotlib as mpl\n",
        "import matplotlib.pyplot as plt"
      ]
    },
    {
      "cell_type": "code",
      "execution_count": null,
      "metadata": {
        "colab": {
          "base_uri": "https://localhost:8080/",
          "height": 469
        },
        "id": "7HvNPyJi_d3D",
        "outputId": "6d575c83-261d-470d-cbc0-4b6f43106862"
      },
      "outputs": [
        {
          "data": {
            "image/png": "[encoded data removed]",
            "text/plain": [
              "<Figure size 720x504 with 1 Axes>"
            ]
          },
          "metadata": {},
          "output_type": "display_data"
        }
      ],
      "source": [
        "PC_components = np.arange(pcs.n_components_) + 1\n",
        "#PC_components\n",
        "\n",
        "_ = sns.set(style = 'whitegrid', \n",
        "            font_scale = 1.2\n",
        "            )\n",
        "\n",
        "fig, ax = plt.subplots(figsize=(10, 7))\n",
        "\n",
        "_ = sns.barplot(x = PC_components, \n",
        "                y = pcs.explained_variance_ratio_, \n",
        "                color = 'b'\n",
        "                )\n",
        "\n",
        "_ = sns.lineplot(x = PC_components-1, \n",
        "                 y = np.cumsum(pcs.explained_variance_ratio_), \n",
        "                 color = 'black', \n",
        "                 linestyle = '-', \n",
        "                 linewidth = 2, \n",
        "                 marker = 'o', \n",
        "                 markersize = 8\n",
        "                 )\n",
        "\n",
        "plt.title('Scree Plot')\n",
        "plt.xlabel('N-th Principal Component')\n",
        "plt.ylabel('Variance Explained')\n",
        "plt.ylim(0, 1)\n",
        "plt.show()"
      ]
    },
    {
      "cell_type": "markdown",
      "metadata": {
        "id": "5PvqiBsKMn8d"
      },
      "source": [
        "* The first principal component has the largest possible variance (that is, accounts for as much of the variability in the data as possible)\n",
        "* Each succeeding component, in turn, has the highest variance possible under the constraint that it is orthogonal the preceding components."
      ]
    },
    {
      "cell_type": "code",
      "execution_count": null,
      "metadata": {
        "colab": {
          "base_uri": "https://localhost:8080/"
        },
        "id": "rk1ke8Lj4i2B",
        "outputId": "ced343db-02a6-4635-bbfb-4c8a668e2463"
      },
      "outputs": [
        {
          "data": {
            "text/plain": [
              "array([[-0.8471,  0.5315],\n",
              "       [ 0.5315,  0.8471]])"
            ]
          },
          "execution_count": 21,
          "metadata": {},
          "output_type": "execute_result"
        }
      ],
      "source": [
        "pcs.components_.round(4) #is the set of all eigenvectors for your projection space (one eigenvector for each principal component)."
      ]
    },
    {
      "cell_type": "code",
      "execution_count": null,
      "metadata": {
        "colab": {
          "base_uri": "https://localhost:8080/",
          "height": 109
        },
        "id": "dTo86uS14RbJ",
        "outputId": "6d74c1cd-7e1e-4c39-924e-0384bc48ff93"
      },
      "outputs": [
        {
          "data": {
            "text/html": [
              "<div>\n",
              "<style scoped>\n",
              "    .dataframe tbody tr th:only-of-type {\n",
              "        vertical-align: middle;\n",
              "    }\n",
              "\n",
              "    .dataframe tbody tr th {\n",
              "        vertical-align: top;\n",
              "    }\n",
              "\n",
              "    .dataframe thead th {\n",
              "        text-align: right;\n",
              "    }\n",
              "</style>\n",
              "<table border=\"1\" class=\"dataframe\">\n",
              "  <thead>\n",
              "    <tr style=\"text-align: right;\">\n",
              "      <th></th>\n",
              "      <th>PC1</th>\n",
              "      <th>PC2</th>\n",
              "    </tr>\n",
              "  </thead>\n",
              "  <tbody>\n",
              "    <tr>\n",
              "      <th>calories</th>\n",
              "      <td>-0.847053</td>\n",
              "      <td>0.531508</td>\n",
              "    </tr>\n",
              "    <tr>\n",
              "      <th>rating</th>\n",
              "      <td>0.531508</td>\n",
              "      <td>0.847053</td>\n",
              "    </tr>\n",
              "  </tbody>\n",
              "</table>\n",
              "</div>"
            ],
            "text/plain": [
              "               PC1       PC2\n",
              "calories -0.847053  0.531508\n",
              "rating    0.531508  0.847053"
            ]
          },
          "execution_count": 22,
          "metadata": {},
          "output_type": "execute_result"
        }
      ],
      "source": [
        "pcsComponents_df = pd.DataFrame(pcs.components_.transpose(), \n",
        "                                columns=['PC1', 'PC2'],\n",
        "                                index=['calories', 'rating']\n",
        "                                )\n",
        "pcsComponents_df"
      ]
    },
    {
      "cell_type": "markdown",
      "metadata": {
        "id": "LlWava2Cu-Ei"
      },
      "source": [
        "> The first column here shows coefficients of linear combination that defines PC1 (z1)\n",
        "\n",
        "> The second column shows coefficients for PC2 (z2)."
      ]
    },
    {
      "cell_type": "markdown",
      "metadata": {
        "id": "hrcrhoCookhL"
      },
      "source": [
        "The weights are used to compute principal component scores, which are the projected values of calories and rating onto the new axes (after subtracting the means). \n",
        "\n",
        "* The average calories across the 77 cereals is `106.88` and the average consumer rating is `42.67`.\n",
        "\n",
        "* The first column is the projection onto z1 using the weights (-0.847, 0.532). \n",
        "\n",
        "    * The second column is the projection onto z2 using the weights (0.532, 0.847). \n",
        "    \n",
        "For example:  \n",
        "\n",
        "First, we need to center the original variables by subtracting column means\n",
        "(70 − `106.88`)   & (68.4 − `42.67`)\n",
        "\n",
        "Second multiply them with corresponding Principal components. \n",
        "\n",
        "The first score for the 100% Bran cereal (with 70 calories and a rating of 68.4) is \n",
        "$$( − 0.847)(70 − 106.88) + (0.532)(68.4 − 42.67) = 44.92$$\n",
        "$$ Z_i = a_{i1} (X_1 - \\bar{X_1}) + a_{i2} (X_2 - \\bar{X_2}) + \\cdots + a_{in} (X_n - \\bar{X_n}) ; i = 1, 2, 3, \\cdots n$$"
      ]
    },
    {
      "cell_type": "code",
      "execution_count": null,
      "metadata": {
        "colab": {
          "base_uri": "https://localhost:8080/",
          "height": 201
        },
        "id": "7nkdeQp159hZ",
        "outputId": "a2917b4d-0579-4039-c46e-4b4b716d1959"
      },
      "outputs": [
        {
          "data": {
            "text/html": [
              "<div>\n",
              "<style scoped>\n",
              "    .dataframe tbody tr th:only-of-type {\n",
              "        vertical-align: middle;\n",
              "    }\n",
              "\n",
              "    .dataframe tbody tr th {\n",
              "        vertical-align: top;\n",
              "    }\n",
              "\n",
              "    .dataframe thead th {\n",
              "        text-align: right;\n",
              "    }\n",
              "</style>\n",
              "<table border=\"1\" class=\"dataframe\">\n",
              "  <thead>\n",
              "    <tr style=\"text-align: right;\">\n",
              "      <th></th>\n",
              "      <th>x</th>\n",
              "      <th>y</th>\n",
              "    </tr>\n",
              "  </thead>\n",
              "  <tbody>\n",
              "    <tr>\n",
              "      <th>0</th>\n",
              "      <td>44.921528</td>\n",
              "      <td>2.197183</td>\n",
              "    </tr>\n",
              "    <tr>\n",
              "      <th>1</th>\n",
              "      <td>-15.725265</td>\n",
              "      <td>-0.382416</td>\n",
              "    </tr>\n",
              "    <tr>\n",
              "      <th>2</th>\n",
              "      <td>40.149935</td>\n",
              "      <td>-5.407212</td>\n",
              "    </tr>\n",
              "    <tr>\n",
              "      <th>3</th>\n",
              "      <td>75.310772</td>\n",
              "      <td>12.999126</td>\n",
              "    </tr>\n",
              "    <tr>\n",
              "      <th>4</th>\n",
              "      <td>-7.041508</td>\n",
              "      <td>-5.357686</td>\n",
              "    </tr>\n",
              "  </tbody>\n",
              "</table>\n",
              "</div>"
            ],
            "text/plain": [
              "           x          y\n",
              "0  44.921528   2.197183\n",
              "1 -15.725265  -0.382416\n",
              "2  40.149935  -5.407212\n",
              "3  75.310772  12.999126\n",
              "4  -7.041508  -5.357686"
            ]
          },
          "execution_count": 23,
          "metadata": {},
          "output_type": "execute_result"
        }
      ],
      "source": [
        "scores = pd.DataFrame(pcs.transform(df[['calories', 'rating']]),\n",
        "                      columns=['x', 'y']\n",
        "                      )\n",
        "scores.head()"
      ]
    },
    {
      "cell_type": "code",
      "execution_count": null,
      "metadata": {
        "id": "oPKWgp0C6G9-"
      },
      "outputs": [],
      "source": [
        "x = (-0.847)*(70-106.88)+(0.532)*(68.4-42.67)\n",
        "\n",
        "y = (0.531508)*(70-106.88)+(0.847053)*(68.4-42.67)"
      ]
    },
    {
      "cell_type": "code",
      "execution_count": null,
      "metadata": {
        "colab": {
          "base_uri": "https://localhost:8080/"
        },
        "id": "du4dDNj70dc_",
        "outputId": "2da1bfb5-a18d-489b-d464-0e526b9f15ac"
      },
      "outputs": [
        {
          "name": "stdout",
          "output_type": "stream",
          "text": [
            "For the PC1\n",
            " \t x =  44.92572 \n",
            "\t y =  2.1926586500000056\n"
          ]
        }
      ],
      "source": [
        "print('For the PC1\\n \\t x = ', x, '\\n\\t y = ', y)"
      ]
    },
    {
      "cell_type": "code",
      "execution_count": null,
      "metadata": {
        "colab": {
          "base_uri": "https://localhost:8080/"
        },
        "id": "w1cfTB1t095i",
        "outputId": "dcb3b0ce-3b1b-42ff-cb92-cfdfa66aee0b"
      },
      "outputs": [
        {
          "data": {
            "text/plain": [
              "1.1880828211573103e-15"
            ]
          },
          "execution_count": 26,
          "metadata": {},
          "output_type": "execute_result"
        }
      ],
      "source": [
        "scores.x.mean()"
      ]
    },
    {
      "cell_type": "code",
      "execution_count": null,
      "metadata": {
        "colab": {
          "base_uri": "https://localhost:8080/"
        },
        "id": "0EyKIGk11YeQ",
        "outputId": "7f978f0c-594a-40c9-85fa-142d49511d4e"
      },
      "outputs": [
        {
          "data": {
            "text/plain": [
              "-1.3322676295501878e-14"
            ]
          },
          "execution_count": 27,
          "metadata": {},
          "output_type": "execute_result"
        }
      ],
      "source": [
        "scores.y.sum()"
      ]
    },
    {
      "cell_type": "markdown",
      "metadata": {
        "id": "FTmQTvYvMn8g"
      },
      "source": [
        "The sum of the variances `var(z1) + var(z2)` is equal to the sum of the variances of the original variables, `var(calories) + var(rating)`.  "
      ]
    },
    {
      "cell_type": "code",
      "execution_count": null,
      "metadata": {
        "colab": {
          "base_uri": "https://localhost:8080/"
        },
        "id": "q7QLcJLN1eaG",
        "outputId": "cf31e975-e9dd-4d37-fb02-5e6aa82aea9b"
      },
      "outputs": [
        {
          "data": {
            "text/plain": [
              "576.9572164702394"
            ]
          },
          "execution_count": 28,
          "metadata": {},
          "output_type": "execute_result"
        }
      ],
      "source": [
        "scores.x.var() + scores.y.var()"
      ]
    },
    {
      "cell_type": "code",
      "execution_count": null,
      "metadata": {
        "colab": {
          "base_uri": "https://localhost:8080/"
        },
        "id": "p0gsYAF01vKA",
        "outputId": "73b3ae28-6d7b-46a8-989e-fb643f7f5b4f"
      },
      "outputs": [
        {
          "data": {
            "text/plain": [
              "576.9572164702394"
            ]
          },
          "execution_count": 29,
          "metadata": {},
          "output_type": "execute_result"
        }
      ],
      "source": [
        "df.calories.var() + df.rating.var()"
      ]
    },
    {
      "cell_type": "code",
      "execution_count": null,
      "metadata": {
        "colab": {
          "base_uri": "https://localhost:8080/"
        },
        "id": "Hykb7IsW10q-",
        "outputId": "42dd852e-b189-4c92-894a-deb2f17aa655"
      },
      "outputs": [
        {
          "data": {
            "text/plain": [
              "86.0"
            ]
          },
          "execution_count": 30,
          "metadata": {},
          "output_type": "execute_result"
        }
      ],
      "source": [
        "((scores.x.var()/\n",
        "  (scores.x.var()+scores.y.var())\n",
        " )*100).round(0)"
      ]
    },
    {
      "cell_type": "code",
      "execution_count": null,
      "metadata": {
        "colab": {
          "base_uri": "https://localhost:8080/",
          "height": 140
        },
        "id": "0q4Y1djY2PYj",
        "outputId": "bc85fca6-cae9-46cb-d948-5bf8615f1a61"
      },
      "outputs": [
        {
          "data": {
            "text/html": [
              "<div>\n",
              "<style scoped>\n",
              "    .dataframe tbody tr th:only-of-type {\n",
              "        vertical-align: middle;\n",
              "    }\n",
              "\n",
              "    .dataframe tbody tr th {\n",
              "        vertical-align: top;\n",
              "    }\n",
              "\n",
              "    .dataframe thead th {\n",
              "        text-align: right;\n",
              "    }\n",
              "</style>\n",
              "<table border=\"1\" class=\"dataframe\">\n",
              "  <thead>\n",
              "    <tr style=\"text-align: right;\">\n",
              "      <th></th>\n",
              "      <th>0</th>\n",
              "      <th>1</th>\n",
              "      <th>2</th>\n",
              "      <th>3</th>\n",
              "      <th>4</th>\n",
              "      <th>5</th>\n",
              "      <th>6</th>\n",
              "      <th>7</th>\n",
              "      <th>8</th>\n",
              "      <th>9</th>\n",
              "      <th>10</th>\n",
              "      <th>11</th>\n",
              "      <th>12</th>\n",
              "    </tr>\n",
              "  </thead>\n",
              "  <tbody>\n",
              "    <tr>\n",
              "      <th>Standard deviation</th>\n",
              "      <td>83.764075</td>\n",
              "      <td>70.914255</td>\n",
              "      <td>22.643745</td>\n",
              "      <td>19.181482</td>\n",
              "      <td>8.423228</td>\n",
              "      <td>2.091670</td>\n",
              "      <td>1.699423</td>\n",
              "      <td>0.779635</td>\n",
              "      <td>0.657833</td>\n",
              "      <td>0.370428</td>\n",
              "      <td>0.186441</td>\n",
              "      <td>6.302264e-02</td>\n",
              "      <td>5.333701e-08</td>\n",
              "    </tr>\n",
              "    <tr>\n",
              "      <th>Proportion of variance</th>\n",
              "      <td>0.539503</td>\n",
              "      <td>0.386674</td>\n",
              "      <td>0.039425</td>\n",
              "      <td>0.028291</td>\n",
              "      <td>0.005456</td>\n",
              "      <td>0.000336</td>\n",
              "      <td>0.000222</td>\n",
              "      <td>0.000047</td>\n",
              "      <td>0.000033</td>\n",
              "      <td>0.000011</td>\n",
              "      <td>0.000003</td>\n",
              "      <td>3.054014e-07</td>\n",
              "      <td>2.187435e-19</td>\n",
              "    </tr>\n",
              "    <tr>\n",
              "      <th>Cumulative proportion</th>\n",
              "      <td>0.539503</td>\n",
              "      <td>0.926177</td>\n",
              "      <td>0.965602</td>\n",
              "      <td>0.993892</td>\n",
              "      <td>0.999348</td>\n",
              "      <td>0.999684</td>\n",
              "      <td>0.999906</td>\n",
              "      <td>0.999953</td>\n",
              "      <td>0.999986</td>\n",
              "      <td>0.999997</td>\n",
              "      <td>1.000000</td>\n",
              "      <td>1.000000e+00</td>\n",
              "      <td>1.000000e+00</td>\n",
              "    </tr>\n",
              "  </tbody>\n",
              "</table>\n",
              "</div>"
            ],
            "text/plain": [
              "                               0          1          2          3         4   \\\n",
              "Standard deviation      83.764075  70.914255  22.643745  19.181482  8.423228   \n",
              "Proportion of variance   0.539503   0.386674   0.039425   0.028291  0.005456   \n",
              "Cumulative proportion    0.539503   0.926177   0.965602   0.993892  0.999348   \n",
              "\n",
              "                              5         6         7         8         9   \\\n",
              "Standard deviation      2.091670  1.699423  0.779635  0.657833  0.370428   \n",
              "Proportion of variance  0.000336  0.000222  0.000047  0.000033  0.000011   \n",
              "Cumulative proportion   0.999684  0.999906  0.999953  0.999986  0.999997   \n",
              "\n",
              "                              10            11            12  \n",
              "Standard deviation      0.186441  6.302264e-02  5.333701e-08  \n",
              "Proportion of variance  0.000003  3.054014e-07  2.187435e-19  \n",
              "Cumulative proportion   1.000000  1.000000e+00  1.000000e+00  "
            ]
          },
          "execution_count": 31,
          "metadata": {},
          "output_type": "execute_result"
        }
      ],
      "source": [
        "pcs = PCA()\n",
        "pcs.fit(cereals_df.iloc[:, 3:].dropna(axis=0))\n",
        "pcsSummary_df = pd.DataFrame({'Standard deviation': np.sqrt(pcs.explained_variance_),\n",
        "                             'Proportion of variance': pcs.explained_variance_ratio_,\n",
        "                             'Cumulative proportion': np.cumsum(pcs.explained_variance_ratio_)\n",
        "                             })\n",
        "pcsSummary_df = pcsSummary_df.transpose()\n",
        "pcsSummary_df"
      ]
    },
    {
      "cell_type": "markdown",
      "metadata": {
        "id": "qU6-Pg5MMn8g"
      },
      "source": [
        "### Scree Plot"
      ]
    },
    {
      "cell_type": "code",
      "execution_count": null,
      "metadata": {
        "colab": {
          "base_uri": "https://localhost:8080/",
          "height": 469
        },
        "id": "dp5szqxU_O50",
        "outputId": "3955463c-f429-4386-c8dc-44b40a296c02"
      },
      "outputs": [
        {
          "data": {
            "image/png": "[encoded data removed]",
            "text/plain": [
              "<Figure size 720x504 with 1 Axes>"
            ]
          },
          "metadata": {},
          "output_type": "display_data"
        }
      ],
      "source": [
        "PC_components = np.arange(pcs.n_components_) + 1\n",
        "#PC_components\n",
        "\n",
        "_ = sns.set(style = 'whitegrid', \n",
        "            font_scale = 1.2\n",
        "            )\n",
        "\n",
        "fig, ax = plt.subplots(figsize=(10, 7))\n",
        "\n",
        "_ = sns.barplot(x = PC_components, \n",
        "                y = pcs.explained_variance_ratio_, \n",
        "                color = 'b'\n",
        "                )\n",
        "\n",
        "_ = sns.lineplot(x = PC_components-1, \n",
        "                 y = np.cumsum(pcs.explained_variance_ratio_), \n",
        "                 color = 'black', \n",
        "                 linestyle = '-', \n",
        "                 linewidth = 2, \n",
        "                 marker = 'o', \n",
        "                 markersize = 8\n",
        "                 )\n",
        "\n",
        "plt.title('Scree Plot')\n",
        "plt.xlabel('N-th Principal Component')\n",
        "plt.ylabel('Variance Explained')\n",
        "plt.ylim(0, 1)\n",
        "plt.show()\n"
      ]
    },
    {
      "cell_type": "markdown",
      "metadata": {
        "id": "NZqgwnZSSTzD"
      },
      "source": [
        "Note that the first three components account for more than 96% of the total variation associated with all 13 of the original variables."
      ]
    },
    {
      "cell_type": "code",
      "execution_count": null,
      "metadata": {
        "colab": {
          "base_uri": "https://localhost:8080/"
        },
        "id": "Pr9NgpKpRslo",
        "outputId": "f60673a1-19a2-4957-9b0f-88114f189f30"
      },
      "outputs": [
        {
          "data": {
            "text/plain": [
              "97.0"
            ]
          },
          "execution_count": 33,
          "metadata": {},
          "output_type": "execute_result"
        }
      ],
      "source": [
        "#pcsSummary_df.iloc[1][0]+pcsSummary_df.iloc[1][1]+pcsSummary_df.iloc[1][2]\n",
        "#OR\n",
        "((pcsSummary_df.iloc[2][2])*100).round(0)\n",
        "#type(pcsSummary_df)"
      ]
    },
    {
      "cell_type": "markdown",
      "metadata": {
        "id": "FjO0RDicSunS"
      },
      "source": [
        "In fact, the first two principal components alone capture 92.6% of the total variation."
      ]
    },
    {
      "cell_type": "code",
      "execution_count": null,
      "metadata": {
        "colab": {
          "base_uri": "https://localhost:8080/"
        },
        "id": "STkHp3faSx9D",
        "outputId": "023e9a98-9935-4b7b-95e2-d0a12cdaad29"
      },
      "outputs": [
        {
          "data": {
            "text/plain": [
              "92.62"
            ]
          },
          "execution_count": 34,
          "metadata": {},
          "output_type": "execute_result"
        }
      ],
      "source": [
        "#pcsSummary_df.iloc[1][0]+pcsSummary_df.iloc[1][1]\n",
        "#OR\n",
        "((pcsSummary_df.iloc[2][1])*100).round(2)"
      ]
    },
    {
      "cell_type": "code",
      "execution_count": null,
      "metadata": {
        "colab": {
          "base_uri": "https://localhost:8080/",
          "height": 140
        },
        "id": "CXrtccVROj9n",
        "outputId": "de319130-7ae6-4d1b-a63d-0783e3008eef"
      },
      "outputs": [
        {
          "data": {
            "text/html": [
              "<div>\n",
              "<style scoped>\n",
              "    .dataframe tbody tr th:only-of-type {\n",
              "        vertical-align: middle;\n",
              "    }\n",
              "\n",
              "    .dataframe tbody tr th {\n",
              "        vertical-align: top;\n",
              "    }\n",
              "\n",
              "    .dataframe thead th {\n",
              "        text-align: right;\n",
              "    }\n",
              "</style>\n",
              "<table border=\"1\" class=\"dataframe\">\n",
              "  <thead>\n",
              "    <tr style=\"text-align: right;\">\n",
              "      <th></th>\n",
              "      <th>PC1</th>\n",
              "      <th>PC2</th>\n",
              "      <th>PC3</th>\n",
              "      <th>PC4</th>\n",
              "      <th>PC5</th>\n",
              "      <th>PC6</th>\n",
              "      <th>PC7</th>\n",
              "      <th>PC8</th>\n",
              "      <th>PC9</th>\n",
              "      <th>PC10</th>\n",
              "      <th>PC11</th>\n",
              "      <th>PC12</th>\n",
              "      <th>PC13</th>\n",
              "    </tr>\n",
              "  </thead>\n",
              "  <tbody>\n",
              "    <tr>\n",
              "      <th>Standard deviation</th>\n",
              "      <td>83.7641</td>\n",
              "      <td>70.9143</td>\n",
              "      <td>22.6437</td>\n",
              "      <td>19.1815</td>\n",
              "      <td>8.4232</td>\n",
              "      <td>2.0917</td>\n",
              "      <td>1.6994</td>\n",
              "      <td>0.7796</td>\n",
              "      <td>0.6578</td>\n",
              "      <td>0.3704</td>\n",
              "      <td>0.1864</td>\n",
              "      <td>0.063</td>\n",
              "      <td>0.0</td>\n",
              "    </tr>\n",
              "    <tr>\n",
              "      <th>Proportion of variance</th>\n",
              "      <td>0.5395</td>\n",
              "      <td>0.3867</td>\n",
              "      <td>0.0394</td>\n",
              "      <td>0.0283</td>\n",
              "      <td>0.0055</td>\n",
              "      <td>0.0003</td>\n",
              "      <td>0.0002</td>\n",
              "      <td>0.0000</td>\n",
              "      <td>0.0000</td>\n",
              "      <td>0.0000</td>\n",
              "      <td>0.0000</td>\n",
              "      <td>0.000</td>\n",
              "      <td>0.0</td>\n",
              "    </tr>\n",
              "    <tr>\n",
              "      <th>Cumulative proportion</th>\n",
              "      <td>0.5395</td>\n",
              "      <td>0.9262</td>\n",
              "      <td>0.9656</td>\n",
              "      <td>0.9939</td>\n",
              "      <td>0.9993</td>\n",
              "      <td>0.9997</td>\n",
              "      <td>0.9999</td>\n",
              "      <td>1.0000</td>\n",
              "      <td>1.0000</td>\n",
              "      <td>1.0000</td>\n",
              "      <td>1.0000</td>\n",
              "      <td>1.000</td>\n",
              "      <td>1.0</td>\n",
              "    </tr>\n",
              "  </tbody>\n",
              "</table>\n",
              "</div>"
            ],
            "text/plain": [
              "                            PC1      PC2      PC3      PC4     PC5     PC6  \\\n",
              "Standard deviation      83.7641  70.9143  22.6437  19.1815  8.4232  2.0917   \n",
              "Proportion of variance   0.5395   0.3867   0.0394   0.0283  0.0055  0.0003   \n",
              "Cumulative proportion    0.5395   0.9262   0.9656   0.9939  0.9993  0.9997   \n",
              "\n",
              "                           PC7     PC8     PC9    PC10    PC11   PC12  PC13  \n",
              "Standard deviation      1.6994  0.7796  0.6578  0.3704  0.1864  0.063   0.0  \n",
              "Proportion of variance  0.0002  0.0000  0.0000  0.0000  0.0000  0.000   0.0  \n",
              "Cumulative proportion   0.9999  1.0000  1.0000  1.0000  1.0000  1.000   1.0  "
            ]
          },
          "execution_count": 35,
          "metadata": {},
          "output_type": "execute_result"
        }
      ],
      "source": [
        "pcsSummary_df.columns = ['PC{}'.format(i) for i in range(1, len(pcsSummary_df.columns) + 1)]\n",
        "pcsSummary_df.round(4)"
      ]
    },
    {
      "cell_type": "code",
      "execution_count": null,
      "metadata": {
        "colab": {
          "base_uri": "https://localhost:8080/"
        },
        "id": "KcwhtymLVVgC",
        "outputId": "fb0faf05-1e06-4a6c-ae55-aaff9ad27c0e"
      },
      "outputs": [
        {
          "data": {
            "text/plain": [
              "array([[-7.79841812e-02,  7.56780568e-04,  1.01783356e-04,\n",
              "        -9.80214542e-01,  5.41275498e-03, -1.72462607e-02,\n",
              "        -2.98886313e-03,  1.34900004e-01, -9.42933187e-02,\n",
              "         1.54141949e-03, -5.12001742e-04, -5.10111142e-04,\n",
              "         7.52962922e-02],\n",
              "       [-9.31158743e-03,  8.80102815e-03,  2.69915215e-03,\n",
              "         1.40895790e-01,  3.06807512e-02, -1.67832981e-02,\n",
              "        -2.53485333e-04,  9.86561981e-01,  1.67288404e-02,\n",
              "         4.36039937e-03,  9.99213791e-04, -1.59101254e-03,\n",
              "         7.17421528e-02],\n",
              "       [ 6.29205759e-01,  1.02611603e-03,  1.61957859e-02,\n",
              "        -1.35901858e-01, -1.81910456e-02,  1.73699816e-02,\n",
              "         9.77049979e-02,  3.67824989e-02,  6.91977762e-01,\n",
              "         1.24888415e-02,  3.80595655e-03,  6.94321437e-04,\n",
              "        -3.07947121e-01],\n",
              "       [-6.01021463e-01,  3.19990954e-03, -2.52622140e-02,\n",
              "        -9.68074064e-04,  2.04721894e-02,  2.59482087e-02,\n",
              "        -1.15480910e-01, -4.21757390e-02,  7.14117998e-01,\n",
              "         5.64718364e-03, -2.54641448e-03,  9.85380036e-04,\n",
              "         3.34533899e-01],\n",
              "       [ 4.54958508e-01,  5.61759702e-02, -1.60984584e-02,\n",
              "         1.39481177e-02,  1.36050260e-02,  3.49266966e-01,\n",
              "        -2.99066459e-01, -4.71505293e-02, -3.70086232e-02,\n",
              "        -7.87645901e-03,  3.02211268e-03,  2.14845847e-03,\n",
              "         7.57708025e-01],\n",
              "       [ 1.18847832e-01,  1.12745031e-01, -1.31815708e-01,\n",
              "         2.27930377e-02,  2.62841270e-01, -5.37836535e-01,\n",
              "         6.47923362e-01, -4.99985794e-02,  1.57572296e-02,\n",
              "        -5.99013877e-02,  9.05156387e-03, -1.03053694e-02,\n",
              "         4.13020626e-01],\n",
              "       [ 9.38565528e-02,  2.58102746e-01,  3.72584401e-01,\n",
              "         4.50822800e-03,  4.31138516e-02, -6.72431925e-01,\n",
              "        -5.66975323e-01, -1.79586636e-02,  1.21022319e-02,\n",
              "         9.22153857e-02, -2.36129686e-02, -1.95943497e-02,\n",
              "         1.83242760e-02],\n",
              "       [-2.61913392e-02,  6.55037442e-01, -1.17931519e-01,\n",
              "         6.16985818e-04, -6.58776201e-01,  6.30008236e-03,\n",
              "         1.03466212e-01,  1.53755334e-02,  4.02466341e-03,\n",
              "        -3.27611431e-01, -2.81570076e-03,  6.21864112e-02,\n",
              "         1.19906554e-02],\n",
              "       [ 9.02669439e-03, -2.02405738e-01,  1.23748917e-01,\n",
              "        -4.07083233e-03,  2.26879873e-01, -2.51633588e-02,\n",
              "        -1.17132697e-01,  1.21381267e-03,  1.24222249e-02,\n",
              "        -9.34607778e-01,  2.05720366e-03,  5.35963147e-02,\n",
              "        -3.56096638e-02],\n",
              "       [ 6.45173103e-02, -2.55922184e-01, -8.41440364e-01,\n",
              "        -9.16901600e-04, -1.44477489e-01, -3.00148964e-01,\n",
              "        -3.19664497e-01,  6.33922329e-03,  5.38765472e-04,\n",
              "        -4.60059018e-02,  5.99016673e-03, -8.03854589e-02,\n",
              "        -2.27016753e-02],\n",
              "       [ 8.97512493e-03, -4.52731364e-02, -6.24379207e-02,\n",
              "         2.43080034e-04,  2.10721277e-02, -4.18728692e-02,\n",
              "        -2.81308522e-02,  4.70220659e-04, -1.54357072e-03,\n",
              "         6.77694364e-02, -9.29190484e-02,  9.88810437e-01,\n",
              "         2.68145443e-03],\n",
              "       [ 3.85315754e-03, -4.50836972e-03, -8.60335645e-03,\n",
              "         2.32799160e-04,  8.10661351e-04,  1.41471041e-02,\n",
              "         1.92731850e-02,  9.51047890e-04,  7.89784820e-04,\n",
              "        -1.03280533e-02, -9.95312585e-01, -9.24845014e-02,\n",
              "         3.12742367e-03],\n",
              "       [ 4.19359171e-02, -6.16293914e-01,  3.18469006e-01,\n",
              "         1.02602312e-02, -6.48360192e-01, -2.05693589e-01,\n",
              "         1.36487845e-01,  6.40048350e-03,  9.64251396e-03,\n",
              "         5.14519362e-09,  9.52224067e-08, -2.12711164e-08,\n",
              "         1.88286335e-01]])"
            ]
          },
          "execution_count": 36,
          "metadata": {},
          "output_type": "execute_result"
        }
      ],
      "source": [
        "pcs.components_"
      ]
    },
    {
      "cell_type": "code",
      "execution_count": null,
      "metadata": {
        "colab": {
          "base_uri": "https://localhost:8080/",
          "height": 444
        },
        "id": "6l5Ao-1gOsVD",
        "outputId": "80615287-f3fd-47fa-b05f-baec4e72bb21"
      },
      "outputs": [
        {
          "data": {
            "text/html": [
              "<div>\n",
              "<style scoped>\n",
              "    .dataframe tbody tr th:only-of-type {\n",
              "        vertical-align: middle;\n",
              "    }\n",
              "\n",
              "    .dataframe tbody tr th {\n",
              "        vertical-align: top;\n",
              "    }\n",
              "\n",
              "    .dataframe thead th {\n",
              "        text-align: right;\n",
              "    }\n",
              "</style>\n",
              "<table border=\"1\" class=\"dataframe\">\n",
              "  <thead>\n",
              "    <tr style=\"text-align: right;\">\n",
              "      <th></th>\n",
              "      <th>PC1</th>\n",
              "      <th>PC2</th>\n",
              "      <th>PC3</th>\n",
              "      <th>PC4</th>\n",
              "      <th>PC5</th>\n",
              "    </tr>\n",
              "  </thead>\n",
              "  <tbody>\n",
              "    <tr>\n",
              "      <th>calories</th>\n",
              "      <td>-0.077984</td>\n",
              "      <td>-0.009312</td>\n",
              "      <td>0.629206</td>\n",
              "      <td>-0.601021</td>\n",
              "      <td>0.454959</td>\n",
              "    </tr>\n",
              "    <tr>\n",
              "      <th>protein</th>\n",
              "      <td>0.000757</td>\n",
              "      <td>0.008801</td>\n",
              "      <td>0.001026</td>\n",
              "      <td>0.003200</td>\n",
              "      <td>0.056176</td>\n",
              "    </tr>\n",
              "    <tr>\n",
              "      <th>fat</th>\n",
              "      <td>0.000102</td>\n",
              "      <td>0.002699</td>\n",
              "      <td>0.016196</td>\n",
              "      <td>-0.025262</td>\n",
              "      <td>-0.016098</td>\n",
              "    </tr>\n",
              "    <tr>\n",
              "      <th>sodium</th>\n",
              "      <td>-0.980215</td>\n",
              "      <td>0.140896</td>\n",
              "      <td>-0.135902</td>\n",
              "      <td>-0.000968</td>\n",
              "      <td>0.013948</td>\n",
              "    </tr>\n",
              "    <tr>\n",
              "      <th>fiber</th>\n",
              "      <td>0.005413</td>\n",
              "      <td>0.030681</td>\n",
              "      <td>-0.018191</td>\n",
              "      <td>0.020472</td>\n",
              "      <td>0.013605</td>\n",
              "    </tr>\n",
              "    <tr>\n",
              "      <th>carbo</th>\n",
              "      <td>-0.017246</td>\n",
              "      <td>-0.016783</td>\n",
              "      <td>0.017370</td>\n",
              "      <td>0.025948</td>\n",
              "      <td>0.349267</td>\n",
              "    </tr>\n",
              "    <tr>\n",
              "      <th>sugars</th>\n",
              "      <td>-0.002989</td>\n",
              "      <td>-0.000253</td>\n",
              "      <td>0.097705</td>\n",
              "      <td>-0.115481</td>\n",
              "      <td>-0.299066</td>\n",
              "    </tr>\n",
              "    <tr>\n",
              "      <th>potass</th>\n",
              "      <td>0.134900</td>\n",
              "      <td>0.986562</td>\n",
              "      <td>0.036782</td>\n",
              "      <td>-0.042176</td>\n",
              "      <td>-0.047151</td>\n",
              "    </tr>\n",
              "    <tr>\n",
              "      <th>vitamins</th>\n",
              "      <td>-0.094293</td>\n",
              "      <td>0.016729</td>\n",
              "      <td>0.691978</td>\n",
              "      <td>0.714118</td>\n",
              "      <td>-0.037009</td>\n",
              "    </tr>\n",
              "    <tr>\n",
              "      <th>shelf</th>\n",
              "      <td>0.001541</td>\n",
              "      <td>0.004360</td>\n",
              "      <td>0.012489</td>\n",
              "      <td>0.005647</td>\n",
              "      <td>-0.007876</td>\n",
              "    </tr>\n",
              "    <tr>\n",
              "      <th>weight</th>\n",
              "      <td>-0.000512</td>\n",
              "      <td>0.000999</td>\n",
              "      <td>0.003806</td>\n",
              "      <td>-0.002546</td>\n",
              "      <td>0.003022</td>\n",
              "    </tr>\n",
              "    <tr>\n",
              "      <th>cups</th>\n",
              "      <td>-0.000510</td>\n",
              "      <td>-0.001591</td>\n",
              "      <td>0.000694</td>\n",
              "      <td>0.000985</td>\n",
              "      <td>0.002148</td>\n",
              "    </tr>\n",
              "    <tr>\n",
              "      <th>rating</th>\n",
              "      <td>0.075296</td>\n",
              "      <td>0.071742</td>\n",
              "      <td>-0.307947</td>\n",
              "      <td>0.334534</td>\n",
              "      <td>0.757708</td>\n",
              "    </tr>\n",
              "  </tbody>\n",
              "</table>\n",
              "</div>"
            ],
            "text/plain": [
              "               PC1       PC2       PC3       PC4       PC5\n",
              "calories -0.077984 -0.009312  0.629206 -0.601021  0.454959\n",
              "protein   0.000757  0.008801  0.001026  0.003200  0.056176\n",
              "fat       0.000102  0.002699  0.016196 -0.025262 -0.016098\n",
              "sodium   -0.980215  0.140896 -0.135902 -0.000968  0.013948\n",
              "fiber     0.005413  0.030681 -0.018191  0.020472  0.013605\n",
              "carbo    -0.017246 -0.016783  0.017370  0.025948  0.349267\n",
              "sugars   -0.002989 -0.000253  0.097705 -0.115481 -0.299066\n",
              "potass    0.134900  0.986562  0.036782 -0.042176 -0.047151\n",
              "vitamins -0.094293  0.016729  0.691978  0.714118 -0.037009\n",
              "shelf     0.001541  0.004360  0.012489  0.005647 -0.007876\n",
              "weight   -0.000512  0.000999  0.003806 -0.002546  0.003022\n",
              "cups     -0.000510 -0.001591  0.000694  0.000985  0.002148\n",
              "rating    0.075296  0.071742 -0.307947  0.334534  0.757708"
            ]
          },
          "execution_count": 37,
          "metadata": {},
          "output_type": "execute_result"
        }
      ],
      "source": [
        "pcsComponents_df = pd.DataFrame(pcs.components_.transpose(), \n",
        "                                columns = pcsSummary_df.columns,\n",
        "                                index = cereals_df.iloc[:, 3:].columns\n",
        "                                )\n",
        "pcsComponents_df.iloc[:,:5]"
      ]
    },
    {
      "cell_type": "code",
      "execution_count": null,
      "metadata": {
        "colab": {
          "base_uri": "https://localhost:8080/",
          "height": 444
        },
        "id": "DFeaIOovPu6b",
        "outputId": "56a26372-352e-418f-9164-dd4565a57f4d"
      },
      "outputs": [
        {
          "data": {
            "text/html": [
              "<div>\n",
              "<style scoped>\n",
              "    .dataframe tbody tr th:only-of-type {\n",
              "        vertical-align: middle;\n",
              "    }\n",
              "\n",
              "    .dataframe tbody tr th {\n",
              "        vertical-align: top;\n",
              "    }\n",
              "\n",
              "    .dataframe thead th {\n",
              "        text-align: right;\n",
              "    }\n",
              "</style>\n",
              "<table border=\"1\" class=\"dataframe\">\n",
              "  <thead>\n",
              "    <tr style=\"text-align: right;\">\n",
              "      <th></th>\n",
              "      <th>PC1</th>\n",
              "      <th>PC2</th>\n",
              "      <th>PC3</th>\n",
              "      <th>PC4</th>\n",
              "      <th>PC5</th>\n",
              "      <th>PC6</th>\n",
              "      <th>PC7</th>\n",
              "      <th>PC8</th>\n",
              "      <th>PC9</th>\n",
              "      <th>PC10</th>\n",
              "      <th>PC11</th>\n",
              "      <th>PC12</th>\n",
              "      <th>PC13</th>\n",
              "    </tr>\n",
              "  </thead>\n",
              "  <tbody>\n",
              "    <tr>\n",
              "      <th>calories</th>\n",
              "      <td>-0.077984</td>\n",
              "      <td>-0.009312</td>\n",
              "      <td>0.629206</td>\n",
              "      <td>-0.601021</td>\n",
              "      <td>0.454959</td>\n",
              "      <td>0.118848</td>\n",
              "      <td>0.093857</td>\n",
              "      <td>-0.026191</td>\n",
              "      <td>0.009027</td>\n",
              "      <td>0.064517</td>\n",
              "      <td>0.008975</td>\n",
              "      <td>0.003853</td>\n",
              "      <td>4.193592e-02</td>\n",
              "    </tr>\n",
              "    <tr>\n",
              "      <th>protein</th>\n",
              "      <td>0.000757</td>\n",
              "      <td>0.008801</td>\n",
              "      <td>0.001026</td>\n",
              "      <td>0.003200</td>\n",
              "      <td>0.056176</td>\n",
              "      <td>0.112745</td>\n",
              "      <td>0.258103</td>\n",
              "      <td>0.655037</td>\n",
              "      <td>-0.202406</td>\n",
              "      <td>-0.255922</td>\n",
              "      <td>-0.045273</td>\n",
              "      <td>-0.004508</td>\n",
              "      <td>-6.162939e-01</td>\n",
              "    </tr>\n",
              "    <tr>\n",
              "      <th>fat</th>\n",
              "      <td>0.000102</td>\n",
              "      <td>0.002699</td>\n",
              "      <td>0.016196</td>\n",
              "      <td>-0.025262</td>\n",
              "      <td>-0.016098</td>\n",
              "      <td>-0.131816</td>\n",
              "      <td>0.372584</td>\n",
              "      <td>-0.117932</td>\n",
              "      <td>0.123749</td>\n",
              "      <td>-0.841440</td>\n",
              "      <td>-0.062438</td>\n",
              "      <td>-0.008603</td>\n",
              "      <td>3.184690e-01</td>\n",
              "    </tr>\n",
              "    <tr>\n",
              "      <th>sodium</th>\n",
              "      <td>-0.980215</td>\n",
              "      <td>0.140896</td>\n",
              "      <td>-0.135902</td>\n",
              "      <td>-0.000968</td>\n",
              "      <td>0.013948</td>\n",
              "      <td>0.022793</td>\n",
              "      <td>0.004508</td>\n",
              "      <td>0.000617</td>\n",
              "      <td>-0.004071</td>\n",
              "      <td>-0.000917</td>\n",
              "      <td>0.000243</td>\n",
              "      <td>0.000233</td>\n",
              "      <td>1.026023e-02</td>\n",
              "    </tr>\n",
              "    <tr>\n",
              "      <th>fiber</th>\n",
              "      <td>0.005413</td>\n",
              "      <td>0.030681</td>\n",
              "      <td>-0.018191</td>\n",
              "      <td>0.020472</td>\n",
              "      <td>0.013605</td>\n",
              "      <td>0.262841</td>\n",
              "      <td>0.043114</td>\n",
              "      <td>-0.658776</td>\n",
              "      <td>0.226880</td>\n",
              "      <td>-0.144477</td>\n",
              "      <td>0.021072</td>\n",
              "      <td>0.000811</td>\n",
              "      <td>-6.483602e-01</td>\n",
              "    </tr>\n",
              "    <tr>\n",
              "      <th>carbo</th>\n",
              "      <td>-0.017246</td>\n",
              "      <td>-0.016783</td>\n",
              "      <td>0.017370</td>\n",
              "      <td>0.025948</td>\n",
              "      <td>0.349267</td>\n",
              "      <td>-0.537837</td>\n",
              "      <td>-0.672432</td>\n",
              "      <td>0.006300</td>\n",
              "      <td>-0.025163</td>\n",
              "      <td>-0.300149</td>\n",
              "      <td>-0.041873</td>\n",
              "      <td>0.014147</td>\n",
              "      <td>-2.056936e-01</td>\n",
              "    </tr>\n",
              "    <tr>\n",
              "      <th>sugars</th>\n",
              "      <td>-0.002989</td>\n",
              "      <td>-0.000253</td>\n",
              "      <td>0.097705</td>\n",
              "      <td>-0.115481</td>\n",
              "      <td>-0.299066</td>\n",
              "      <td>0.647923</td>\n",
              "      <td>-0.566975</td>\n",
              "      <td>0.103466</td>\n",
              "      <td>-0.117133</td>\n",
              "      <td>-0.319664</td>\n",
              "      <td>-0.028131</td>\n",
              "      <td>0.019273</td>\n",
              "      <td>1.364878e-01</td>\n",
              "    </tr>\n",
              "    <tr>\n",
              "      <th>potass</th>\n",
              "      <td>0.134900</td>\n",
              "      <td>0.986562</td>\n",
              "      <td>0.036782</td>\n",
              "      <td>-0.042176</td>\n",
              "      <td>-0.047151</td>\n",
              "      <td>-0.049999</td>\n",
              "      <td>-0.017959</td>\n",
              "      <td>0.015376</td>\n",
              "      <td>0.001214</td>\n",
              "      <td>0.006339</td>\n",
              "      <td>0.000470</td>\n",
              "      <td>0.000951</td>\n",
              "      <td>6.400483e-03</td>\n",
              "    </tr>\n",
              "    <tr>\n",
              "      <th>vitamins</th>\n",
              "      <td>-0.094293</td>\n",
              "      <td>0.016729</td>\n",
              "      <td>0.691978</td>\n",
              "      <td>0.714118</td>\n",
              "      <td>-0.037009</td>\n",
              "      <td>0.015757</td>\n",
              "      <td>0.012102</td>\n",
              "      <td>0.004025</td>\n",
              "      <td>0.012422</td>\n",
              "      <td>0.000539</td>\n",
              "      <td>-0.001544</td>\n",
              "      <td>0.000790</td>\n",
              "      <td>9.642514e-03</td>\n",
              "    </tr>\n",
              "    <tr>\n",
              "      <th>shelf</th>\n",
              "      <td>0.001541</td>\n",
              "      <td>0.004360</td>\n",
              "      <td>0.012489</td>\n",
              "      <td>0.005647</td>\n",
              "      <td>-0.007876</td>\n",
              "      <td>-0.059901</td>\n",
              "      <td>0.092215</td>\n",
              "      <td>-0.327611</td>\n",
              "      <td>-0.934608</td>\n",
              "      <td>-0.046006</td>\n",
              "      <td>0.067769</td>\n",
              "      <td>-0.010328</td>\n",
              "      <td>5.145194e-09</td>\n",
              "    </tr>\n",
              "    <tr>\n",
              "      <th>weight</th>\n",
              "      <td>-0.000512</td>\n",
              "      <td>0.000999</td>\n",
              "      <td>0.003806</td>\n",
              "      <td>-0.002546</td>\n",
              "      <td>0.003022</td>\n",
              "      <td>0.009052</td>\n",
              "      <td>-0.023613</td>\n",
              "      <td>-0.002816</td>\n",
              "      <td>0.002057</td>\n",
              "      <td>0.005990</td>\n",
              "      <td>-0.092919</td>\n",
              "      <td>-0.995313</td>\n",
              "      <td>9.522241e-08</td>\n",
              "    </tr>\n",
              "    <tr>\n",
              "      <th>cups</th>\n",
              "      <td>-0.000510</td>\n",
              "      <td>-0.001591</td>\n",
              "      <td>0.000694</td>\n",
              "      <td>0.000985</td>\n",
              "      <td>0.002148</td>\n",
              "      <td>-0.010305</td>\n",
              "      <td>-0.019594</td>\n",
              "      <td>0.062186</td>\n",
              "      <td>0.053596</td>\n",
              "      <td>-0.080385</td>\n",
              "      <td>0.988810</td>\n",
              "      <td>-0.092485</td>\n",
              "      <td>-2.127112e-08</td>\n",
              "    </tr>\n",
              "    <tr>\n",
              "      <th>rating</th>\n",
              "      <td>0.075296</td>\n",
              "      <td>0.071742</td>\n",
              "      <td>-0.307947</td>\n",
              "      <td>0.334534</td>\n",
              "      <td>0.757708</td>\n",
              "      <td>0.413021</td>\n",
              "      <td>0.018324</td>\n",
              "      <td>0.011991</td>\n",
              "      <td>-0.035610</td>\n",
              "      <td>-0.022702</td>\n",
              "      <td>0.002681</td>\n",
              "      <td>0.003127</td>\n",
              "      <td>1.882863e-01</td>\n",
              "    </tr>\n",
              "  </tbody>\n",
              "</table>\n",
              "</div>"
            ],
            "text/plain": [
              "               PC1       PC2       PC3       PC4       PC5       PC6  \\\n",
              "calories -0.077984 -0.009312  0.629206 -0.601021  0.454959  0.118848   \n",
              "protein   0.000757  0.008801  0.001026  0.003200  0.056176  0.112745   \n",
              "fat       0.000102  0.002699  0.016196 -0.025262 -0.016098 -0.131816   \n",
              "sodium   -0.980215  0.140896 -0.135902 -0.000968  0.013948  0.022793   \n",
              "fiber     0.005413  0.030681 -0.018191  0.020472  0.013605  0.262841   \n",
              "carbo    -0.017246 -0.016783  0.017370  0.025948  0.349267 -0.537837   \n",
              "sugars   -0.002989 -0.000253  0.097705 -0.115481 -0.299066  0.647923   \n",
              "potass    0.134900  0.986562  0.036782 -0.042176 -0.047151 -0.049999   \n",
              "vitamins -0.094293  0.016729  0.691978  0.714118 -0.037009  0.015757   \n",
              "shelf     0.001541  0.004360  0.012489  0.005647 -0.007876 -0.059901   \n",
              "weight   -0.000512  0.000999  0.003806 -0.002546  0.003022  0.009052   \n",
              "cups     -0.000510 -0.001591  0.000694  0.000985  0.002148 -0.010305   \n",
              "rating    0.075296  0.071742 -0.307947  0.334534  0.757708  0.413021   \n",
              "\n",
              "               PC7       PC8       PC9      PC10      PC11      PC12  \\\n",
              "calories  0.093857 -0.026191  0.009027  0.064517  0.008975  0.003853   \n",
              "protein   0.258103  0.655037 -0.202406 -0.255922 -0.045273 -0.004508   \n",
              "fat       0.372584 -0.117932  0.123749 -0.841440 -0.062438 -0.008603   \n",
              "sodium    0.004508  0.000617 -0.004071 -0.000917  0.000243  0.000233   \n",
              "fiber     0.043114 -0.658776  0.226880 -0.144477  0.021072  0.000811   \n",
              "carbo    -0.672432  0.006300 -0.025163 -0.300149 -0.041873  0.014147   \n",
              "sugars   -0.566975  0.103466 -0.117133 -0.319664 -0.028131  0.019273   \n",
              "potass   -0.017959  0.015376  0.001214  0.006339  0.000470  0.000951   \n",
              "vitamins  0.012102  0.004025  0.012422  0.000539 -0.001544  0.000790   \n",
              "shelf     0.092215 -0.327611 -0.934608 -0.046006  0.067769 -0.010328   \n",
              "weight   -0.023613 -0.002816  0.002057  0.005990 -0.092919 -0.995313   \n",
              "cups     -0.019594  0.062186  0.053596 -0.080385  0.988810 -0.092485   \n",
              "rating    0.018324  0.011991 -0.035610 -0.022702  0.002681  0.003127   \n",
              "\n",
              "                  PC13  \n",
              "calories  4.193592e-02  \n",
              "protein  -6.162939e-01  \n",
              "fat       3.184690e-01  \n",
              "sodium    1.026023e-02  \n",
              "fiber    -6.483602e-01  \n",
              "carbo    -2.056936e-01  \n",
              "sugars    1.364878e-01  \n",
              "potass    6.400483e-03  \n",
              "vitamins  9.642514e-03  \n",
              "shelf     5.145194e-09  \n",
              "weight    9.522241e-08  \n",
              "cups     -2.127112e-08  \n",
              "rating    1.882863e-01  "
            ]
          },
          "execution_count": 38,
          "metadata": {},
          "output_type": "execute_result"
        }
      ],
      "source": [
        "pcsComponents_dfX = pd.DataFrame(pcs.components_.transpose(), \n",
        "                                columns = pcsSummary_df.columns,\n",
        "                                index = cereals_df.iloc[:, 3:].columns\n",
        "                                )\n",
        "pcsComponents_dfX"
      ]
    },
    {
      "cell_type": "markdown",
      "metadata": {
        "id": "L6JgjSHMMn8i"
      },
      "source": [
        "Here, it is clear that: \n",
        "* the first principal component is dominated by the sodium content of the cereal: \n",
        "  * it has the highest (in this case, positive) weight (-0.980215). \n",
        "  * This means that the first principal component is in fact measuring how much sodium is in the cereal. \n",
        "  \n",
        "* The second principal component seems to be measuring the amount of potassium. \n",
        "\n",
        "\n",
        "**Since both these variables are measured in `milligrams`, whereas the other nutrients are measured in `grams`, the scale is obviously leading to this result.** \n",
        "\n",
        "The variances of potassium and sodium are much larger than the variances of the other variables, and thus the total variance is dominated by these two variances. \n",
        "\n",
        "**Normalize before applying PCA!!!**"
      ]
    },
    {
      "cell_type": "markdown",
      "metadata": {
        "id": "4gbHczQJMn8i"
      },
      "source": [
        "* Normalize and then performing PCA on the correlation matrix instead of the covariance matrix. \n",
        "* Using the correlation matrix means that you are operating on the normalized data. "
      ]
    },
    {
      "cell_type": "code",
      "execution_count": null,
      "metadata": {
        "id": "Gd_UIdk2budY"
      },
      "outputs": [],
      "source": [
        "from sklearn import preprocessing"
      ]
    },
    {
      "cell_type": "markdown",
      "metadata": {
        "id": "L8DAaQrQfmhC"
      },
      "source": [
        "#### Normalize the 13 variables due to the different scales of the variables and then perform PCA (or equivalently, we use PCA applied to the correlation matrix)"
      ]
    },
    {
      "cell_type": "code",
      "execution_count": null,
      "metadata": {
        "id": "1PfL4izPMn8i",
        "outputId": "a53bf995-f219-4efc-9ec0-3e3af22dc97b"
      },
      "outputs": [
        {
          "data": {
            "text/html": [
              "<div>\n",
              "<style scoped>\n",
              "    .dataframe tbody tr th:only-of-type {\n",
              "        vertical-align: middle;\n",
              "    }\n",
              "\n",
              "    .dataframe tbody tr th {\n",
              "        vertical-align: top;\n",
              "    }\n",
              "\n",
              "    .dataframe thead th {\n",
              "        text-align: right;\n",
              "    }\n",
              "</style>\n",
              "<table border=\"1\" class=\"dataframe\">\n",
              "  <thead>\n",
              "    <tr style=\"text-align: right;\">\n",
              "      <th></th>\n",
              "      <th>calories</th>\n",
              "      <th>protein</th>\n",
              "      <th>fat</th>\n",
              "      <th>sodium</th>\n",
              "      <th>fiber</th>\n",
              "      <th>carbo</th>\n",
              "      <th>sugars</th>\n",
              "      <th>potass</th>\n",
              "      <th>vitamins</th>\n",
              "      <th>shelf</th>\n",
              "      <th>weight</th>\n",
              "      <th>cups</th>\n",
              "      <th>rating</th>\n",
              "    </tr>\n",
              "  </thead>\n",
              "  <tbody>\n",
              "    <tr>\n",
              "      <th>0</th>\n",
              "      <td>70</td>\n",
              "      <td>4</td>\n",
              "      <td>1</td>\n",
              "      <td>130</td>\n",
              "      <td>10.0</td>\n",
              "      <td>5.0</td>\n",
              "      <td>6.0</td>\n",
              "      <td>280.0</td>\n",
              "      <td>25</td>\n",
              "      <td>3</td>\n",
              "      <td>1.0</td>\n",
              "      <td>0.33</td>\n",
              "      <td>68.402973</td>\n",
              "    </tr>\n",
              "    <tr>\n",
              "      <th>1</th>\n",
              "      <td>120</td>\n",
              "      <td>3</td>\n",
              "      <td>5</td>\n",
              "      <td>15</td>\n",
              "      <td>2.0</td>\n",
              "      <td>8.0</td>\n",
              "      <td>8.0</td>\n",
              "      <td>135.0</td>\n",
              "      <td>0</td>\n",
              "      <td>3</td>\n",
              "      <td>1.0</td>\n",
              "      <td>1.00</td>\n",
              "      <td>33.983679</td>\n",
              "    </tr>\n",
              "    <tr>\n",
              "      <th>2</th>\n",
              "      <td>70</td>\n",
              "      <td>4</td>\n",
              "      <td>1</td>\n",
              "      <td>260</td>\n",
              "      <td>9.0</td>\n",
              "      <td>7.0</td>\n",
              "      <td>5.0</td>\n",
              "      <td>320.0</td>\n",
              "      <td>25</td>\n",
              "      <td>3</td>\n",
              "      <td>1.0</td>\n",
              "      <td>0.33</td>\n",
              "      <td>59.425505</td>\n",
              "    </tr>\n",
              "    <tr>\n",
              "      <th>3</th>\n",
              "      <td>50</td>\n",
              "      <td>4</td>\n",
              "      <td>0</td>\n",
              "      <td>140</td>\n",
              "      <td>14.0</td>\n",
              "      <td>8.0</td>\n",
              "      <td>0.0</td>\n",
              "      <td>330.0</td>\n",
              "      <td>25</td>\n",
              "      <td>3</td>\n",
              "      <td>1.0</td>\n",
              "      <td>0.50</td>\n",
              "      <td>93.704912</td>\n",
              "    </tr>\n",
              "    <tr>\n",
              "      <th>4</th>\n",
              "      <td>110</td>\n",
              "      <td>2</td>\n",
              "      <td>2</td>\n",
              "      <td>200</td>\n",
              "      <td>1.0</td>\n",
              "      <td>14.0</td>\n",
              "      <td>8.0</td>\n",
              "      <td>NaN</td>\n",
              "      <td>25</td>\n",
              "      <td>3</td>\n",
              "      <td>1.0</td>\n",
              "      <td>0.75</td>\n",
              "      <td>34.384843</td>\n",
              "    </tr>\n",
              "  </tbody>\n",
              "</table>\n",
              "</div>"
            ],
            "text/plain": [
              "   calories  protein  fat  sodium  fiber  carbo  sugars  potass  vitamins  \\\n",
              "0        70        4    1     130   10.0    5.0     6.0   280.0        25   \n",
              "1       120        3    5      15    2.0    8.0     8.0   135.0         0   \n",
              "2        70        4    1     260    9.0    7.0     5.0   320.0        25   \n",
              "3        50        4    0     140   14.0    8.0     0.0   330.0        25   \n",
              "4       110        2    2     200    1.0   14.0     8.0     NaN        25   \n",
              "\n",
              "   shelf  weight  cups     rating  \n",
              "0      3     1.0  0.33  68.402973  \n",
              "1      3     1.0  1.00  33.983679  \n",
              "2      3     1.0  0.33  59.425505  \n",
              "3      3     1.0  0.50  93.704912  \n",
              "4      3     1.0  0.75  34.384843  "
            ]
          },
          "execution_count": 40,
          "metadata": {},
          "output_type": "execute_result"
        }
      ],
      "source": [
        "cereals_df.iloc[:, 3:].head()"
      ]
    },
    {
      "cell_type": "code",
      "execution_count": null,
      "metadata": {
        "colab": {
          "base_uri": "https://localhost:8080/",
          "height": 140
        },
        "id": "HY8QEOSqQWBm",
        "outputId": "1ab0efd4-0821-4edc-84b6-3b9bbb502cde"
      },
      "outputs": [
        {
          "data": {
            "text/plain": [
              "PCA()"
            ]
          },
          "execution_count": 41,
          "metadata": {},
          "output_type": "execute_result"
        }
      ],
      "source": [
        "pcs = PCA()\n",
        "pcs.fit(preprocessing.scale(cereals_df.iloc[:, 3:].dropna(axis=0))) \n",
        "                # Standardize a dataset along any axis.\n",
        "                # Center to the mean and component wise scale to unit variance.\n"
      ]
    },
    {
      "cell_type": "code",
      "execution_count": null,
      "metadata": {
        "id": "CluxxeZGMn8j",
        "outputId": "bf522424-1745-4647-eae0-44f2a004fae1"
      },
      "outputs": [
        {
          "data": {
            "text/html": [
              "<div>\n",
              "<style scoped>\n",
              "    .dataframe tbody tr th:only-of-type {\n",
              "        vertical-align: middle;\n",
              "    }\n",
              "\n",
              "    .dataframe tbody tr th {\n",
              "        vertical-align: top;\n",
              "    }\n",
              "\n",
              "    .dataframe thead th {\n",
              "        text-align: right;\n",
              "    }\n",
              "</style>\n",
              "<table border=\"1\" class=\"dataframe\">\n",
              "  <thead>\n",
              "    <tr style=\"text-align: right;\">\n",
              "      <th></th>\n",
              "      <th>PC1</th>\n",
              "      <th>PC2</th>\n",
              "      <th>PC3</th>\n",
              "      <th>PC4</th>\n",
              "      <th>PC5</th>\n",
              "      <th>PC6</th>\n",
              "      <th>PC7</th>\n",
              "      <th>PC8</th>\n",
              "      <th>PC9</th>\n",
              "      <th>PC10</th>\n",
              "      <th>PC11</th>\n",
              "      <th>PC12</th>\n",
              "      <th>PC13</th>\n",
              "    </tr>\n",
              "  </thead>\n",
              "  <tbody>\n",
              "    <tr>\n",
              "      <th>Standard deviation</th>\n",
              "      <td>1.9192</td>\n",
              "      <td>1.7864</td>\n",
              "      <td>1.3912</td>\n",
              "      <td>1.0166</td>\n",
              "      <td>1.0015</td>\n",
              "      <td>0.8555</td>\n",
              "      <td>0.8251</td>\n",
              "      <td>0.6496</td>\n",
              "      <td>0.5658</td>\n",
              "      <td>0.3051</td>\n",
              "      <td>0.2537</td>\n",
              "      <td>0.1399</td>\n",
              "      <td>0.0</td>\n",
              "    </tr>\n",
              "    <tr>\n",
              "      <th>Proportion of variance</th>\n",
              "      <td>0.2795</td>\n",
              "      <td>0.2422</td>\n",
              "      <td>0.1469</td>\n",
              "      <td>0.0784</td>\n",
              "      <td>0.0761</td>\n",
              "      <td>0.0555</td>\n",
              "      <td>0.0517</td>\n",
              "      <td>0.0320</td>\n",
              "      <td>0.0243</td>\n",
              "      <td>0.0071</td>\n",
              "      <td>0.0049</td>\n",
              "      <td>0.0015</td>\n",
              "      <td>0.0</td>\n",
              "    </tr>\n",
              "    <tr>\n",
              "      <th>Cumulative proportion</th>\n",
              "      <td>0.2795</td>\n",
              "      <td>0.5217</td>\n",
              "      <td>0.6685</td>\n",
              "      <td>0.7470</td>\n",
              "      <td>0.8231</td>\n",
              "      <td>0.8786</td>\n",
              "      <td>0.9303</td>\n",
              "      <td>0.9623</td>\n",
              "      <td>0.9866</td>\n",
              "      <td>0.9936</td>\n",
              "      <td>0.9985</td>\n",
              "      <td>1.0000</td>\n",
              "      <td>1.0</td>\n",
              "    </tr>\n",
              "  </tbody>\n",
              "</table>\n",
              "</div>"
            ],
            "text/plain": [
              "                           PC1     PC2     PC3     PC4     PC5     PC6  \\\n",
              "Standard deviation      1.9192  1.7864  1.3912  1.0166  1.0015  0.8555   \n",
              "Proportion of variance  0.2795  0.2422  0.1469  0.0784  0.0761  0.0555   \n",
              "Cumulative proportion   0.2795  0.5217  0.6685  0.7470  0.8231  0.8786   \n",
              "\n",
              "                           PC7     PC8     PC9    PC10    PC11    PC12  PC13  \n",
              "Standard deviation      0.8251  0.6496  0.5658  0.3051  0.2537  0.1399   0.0  \n",
              "Proportion of variance  0.0517  0.0320  0.0243  0.0071  0.0049  0.0015   0.0  \n",
              "Cumulative proportion   0.9303  0.9623  0.9866  0.9936  0.9985  1.0000   1.0  "
            ]
          },
          "execution_count": 42,
          "metadata": {},
          "output_type": "execute_result"
        }
      ],
      "source": [
        "pcsSummary_df = pd.DataFrame({'Standard deviation': np.sqrt(pcs.explained_variance_),\n",
        "                             'Proportion of variance': pcs.explained_variance_ratio_,\n",
        "                             'Cumulative proportion': np.cumsum(pcs.explained_variance_ratio_)\n",
        "                             })\n",
        "\n",
        "pcsSummary_df = pcsSummary_df.transpose()\n",
        "pcsSummary_df.columns = ['PC{}'.format(i) for i in range(1, len(pcsSummary_df.columns) + 1)]\n",
        "pcsSummary_df.round(4) "
      ]
    },
    {
      "cell_type": "code",
      "execution_count": null,
      "metadata": {
        "id": "3TVNG1ppMn8j",
        "outputId": "1f0198fc-391d-45cc-9a91-b3f412a9a597"
      },
      "outputs": [
        {
          "data": {
            "text/plain": [
              "0.9302633875160602"
            ]
          },
          "execution_count": 43,
          "metadata": {},
          "output_type": "execute_result"
        }
      ],
      "source": [
        "pcsSummary_df.iloc[2,6]"
      ]
    },
    {
      "cell_type": "markdown",
      "metadata": {
        "id": "wVL1062GMn8j"
      },
      "source": [
        "* Now we find that we need seven principal components to account for more than 90% of the total variability. \n",
        "* The first two principal components account for only 52% of the total variability, and thus reducing the number of variables to two would mean losing a lot of information. "
      ]
    },
    {
      "cell_type": "code",
      "execution_count": null,
      "metadata": {
        "colab": {
          "base_uri": "https://localhost:8080/",
          "height": 444
        },
        "id": "iZD7YxMOQnFA",
        "outputId": "9f352f51-922f-4582-d2c3-56081b892d7b"
      },
      "outputs": [
        {
          "data": {
            "text/html": [
              "<div>\n",
              "<style scoped>\n",
              "    .dataframe tbody tr th:only-of-type {\n",
              "        vertical-align: middle;\n",
              "    }\n",
              "\n",
              "    .dataframe tbody tr th {\n",
              "        vertical-align: top;\n",
              "    }\n",
              "\n",
              "    .dataframe thead th {\n",
              "        text-align: right;\n",
              "    }\n",
              "</style>\n",
              "<table border=\"1\" class=\"dataframe\">\n",
              "  <thead>\n",
              "    <tr style=\"text-align: right;\">\n",
              "      <th></th>\n",
              "      <th>PC1</th>\n",
              "      <th>PC2</th>\n",
              "      <th>PC3</th>\n",
              "      <th>PC4</th>\n",
              "      <th>PC5</th>\n",
              "      <th>PC6</th>\n",
              "      <th>PC7</th>\n",
              "    </tr>\n",
              "  </thead>\n",
              "  <tbody>\n",
              "    <tr>\n",
              "      <th>calories</th>\n",
              "      <td>-0.299542</td>\n",
              "      <td>-0.393148</td>\n",
              "      <td>0.114857</td>\n",
              "      <td>-0.204359</td>\n",
              "      <td>0.203899</td>\n",
              "      <td>0.255906</td>\n",
              "      <td>0.025595</td>\n",
              "    </tr>\n",
              "    <tr>\n",
              "      <th>protein</th>\n",
              "      <td>0.307356</td>\n",
              "      <td>-0.165323</td>\n",
              "      <td>0.277282</td>\n",
              "      <td>-0.300743</td>\n",
              "      <td>0.319749</td>\n",
              "      <td>-0.120752</td>\n",
              "      <td>-0.282705</td>\n",
              "    </tr>\n",
              "    <tr>\n",
              "      <th>fat</th>\n",
              "      <td>-0.039915</td>\n",
              "      <td>-0.345724</td>\n",
              "      <td>-0.204890</td>\n",
              "      <td>-0.186833</td>\n",
              "      <td>0.586893</td>\n",
              "      <td>-0.347967</td>\n",
              "      <td>0.051155</td>\n",
              "    </tr>\n",
              "    <tr>\n",
              "      <th>sodium</th>\n",
              "      <td>-0.183397</td>\n",
              "      <td>-0.137221</td>\n",
              "      <td>0.389431</td>\n",
              "      <td>-0.120337</td>\n",
              "      <td>-0.338364</td>\n",
              "      <td>-0.664372</td>\n",
              "      <td>0.283703</td>\n",
              "    </tr>\n",
              "    <tr>\n",
              "      <th>fiber</th>\n",
              "      <td>0.453490</td>\n",
              "      <td>-0.179812</td>\n",
              "      <td>0.069766</td>\n",
              "      <td>-0.039174</td>\n",
              "      <td>-0.255119</td>\n",
              "      <td>-0.064244</td>\n",
              "      <td>-0.112325</td>\n",
              "    </tr>\n",
              "    <tr>\n",
              "      <th>carbo</th>\n",
              "      <td>-0.192449</td>\n",
              "      <td>0.149448</td>\n",
              "      <td>0.562452</td>\n",
              "      <td>-0.087835</td>\n",
              "      <td>0.182743</td>\n",
              "      <td>0.326393</td>\n",
              "      <td>0.260468</td>\n",
              "    </tr>\n",
              "    <tr>\n",
              "      <th>sugars</th>\n",
              "      <td>-0.228068</td>\n",
              "      <td>-0.351434</td>\n",
              "      <td>-0.355405</td>\n",
              "      <td>0.022707</td>\n",
              "      <td>-0.314872</td>\n",
              "      <td>0.152082</td>\n",
              "      <td>-0.227985</td>\n",
              "    </tr>\n",
              "    <tr>\n",
              "      <th>potass</th>\n",
              "      <td>0.401964</td>\n",
              "      <td>-0.300544</td>\n",
              "      <td>0.067620</td>\n",
              "      <td>-0.090878</td>\n",
              "      <td>-0.148360</td>\n",
              "      <td>-0.025154</td>\n",
              "      <td>-0.148808</td>\n",
              "    </tr>\n",
              "    <tr>\n",
              "      <th>vitamins</th>\n",
              "      <td>-0.115980</td>\n",
              "      <td>-0.172909</td>\n",
              "      <td>0.387859</td>\n",
              "      <td>0.604111</td>\n",
              "      <td>-0.049287</td>\n",
              "      <td>-0.129486</td>\n",
              "      <td>-0.294276</td>\n",
              "    </tr>\n",
              "    <tr>\n",
              "      <th>shelf</th>\n",
              "      <td>0.171263</td>\n",
              "      <td>-0.265050</td>\n",
              "      <td>-0.001531</td>\n",
              "      <td>0.638879</td>\n",
              "      <td>0.329101</td>\n",
              "      <td>0.052044</td>\n",
              "      <td>0.174834</td>\n",
              "    </tr>\n",
              "    <tr>\n",
              "      <th>weight</th>\n",
              "      <td>-0.050299</td>\n",
              "      <td>-0.450309</td>\n",
              "      <td>0.247138</td>\n",
              "      <td>-0.153429</td>\n",
              "      <td>-0.221283</td>\n",
              "      <td>0.398774</td>\n",
              "      <td>-0.013921</td>\n",
              "    </tr>\n",
              "    <tr>\n",
              "      <th>cups</th>\n",
              "      <td>-0.294636</td>\n",
              "      <td>0.212248</td>\n",
              "      <td>0.140000</td>\n",
              "      <td>-0.047489</td>\n",
              "      <td>0.120816</td>\n",
              "      <td>-0.099461</td>\n",
              "      <td>-0.748567</td>\n",
              "    </tr>\n",
              "    <tr>\n",
              "      <th>rating</th>\n",
              "      <td>0.438378</td>\n",
              "      <td>0.251539</td>\n",
              "      <td>0.181842</td>\n",
              "      <td>-0.038316</td>\n",
              "      <td>0.057584</td>\n",
              "      <td>0.186145</td>\n",
              "      <td>-0.063445</td>\n",
              "    </tr>\n",
              "  </tbody>\n",
              "</table>\n",
              "</div>"
            ],
            "text/plain": [
              "               PC1       PC2       PC3       PC4       PC5       PC6       PC7\n",
              "calories -0.299542 -0.393148  0.114857 -0.204359  0.203899  0.255906  0.025595\n",
              "protein   0.307356 -0.165323  0.277282 -0.300743  0.319749 -0.120752 -0.282705\n",
              "fat      -0.039915 -0.345724 -0.204890 -0.186833  0.586893 -0.347967  0.051155\n",
              "sodium   -0.183397 -0.137221  0.389431 -0.120337 -0.338364 -0.664372  0.283703\n",
              "fiber     0.453490 -0.179812  0.069766 -0.039174 -0.255119 -0.064244 -0.112325\n",
              "carbo    -0.192449  0.149448  0.562452 -0.087835  0.182743  0.326393  0.260468\n",
              "sugars   -0.228068 -0.351434 -0.355405  0.022707 -0.314872  0.152082 -0.227985\n",
              "potass    0.401964 -0.300544  0.067620 -0.090878 -0.148360 -0.025154 -0.148808\n",
              "vitamins -0.115980 -0.172909  0.387859  0.604111 -0.049287 -0.129486 -0.294276\n",
              "shelf     0.171263 -0.265050 -0.001531  0.638879  0.329101  0.052044  0.174834\n",
              "weight   -0.050299 -0.450309  0.247138 -0.153429 -0.221283  0.398774 -0.013921\n",
              "cups     -0.294636  0.212248  0.140000 -0.047489  0.120816 -0.099461 -0.748567\n",
              "rating    0.438378  0.251539  0.181842 -0.038316  0.057584  0.186145 -0.063445"
            ]
          },
          "execution_count": 44,
          "metadata": {},
          "output_type": "execute_result"
        }
      ],
      "source": [
        "pcsComponents_df = pd.DataFrame(pcs.components_.transpose(), \n",
        "                                columns=pcsSummary_df.columns,\n",
        "                                index=cereals_df.iloc[:, 3:].columns\n",
        "                                )\n",
        "pcsComponents_df.iloc[:,:7]"
      ]
    },
    {
      "cell_type": "code",
      "execution_count": null,
      "metadata": {
        "id": "e82V0GEwMn8j",
        "outputId": "9177923b-cdb7-4962-f3c6-bd11491ca3a8"
      },
      "outputs": [
        {
          "data": {
            "text/plain": [
              "'fiber'"
            ]
          },
          "execution_count": 45,
          "metadata": {},
          "output_type": "execute_result"
        }
      ],
      "source": [
        "pcsComponents_df.PC1.idxmax()"
      ]
    },
    {
      "cell_type": "code",
      "execution_count": null,
      "metadata": {
        "id": "K6jng8qDMn8j",
        "outputId": "7200fbcd-ee9e-409f-f75c-af58370de789"
      },
      "outputs": [
        {
          "data": {
            "text/plain": [
              "fiber     0.453490\n",
              "rating    0.438378\n",
              "potass    0.401964\n",
              "Name: PC1, dtype: float64"
            ]
          },
          "execution_count": 46,
          "metadata": {},
          "output_type": "execute_result"
        }
      ],
      "source": [
        "pcsComponents_df.PC1.nlargest(3)"
      ]
    },
    {
      "cell_type": "code",
      "execution_count": null,
      "metadata": {
        "id": "dPEoB3aJMn8j",
        "outputId": "2f4d0170-5fd9-4d36-f19a-1b27159c4ab9"
      },
      "outputs": [
        {
          "data": {
            "text/plain": [
              "'weight'"
            ]
          },
          "execution_count": 47,
          "metadata": {},
          "output_type": "execute_result"
        }
      ],
      "source": [
        "pcsComponents_df.PC2.idxmin()"
      ]
    },
    {
      "cell_type": "code",
      "execution_count": null,
      "metadata": {
        "id": "rK-I8tAnMn8j",
        "outputId": "58765eea-f88e-4d0f-b2ca-8fd20eab0faa"
      },
      "outputs": [
        {
          "data": {
            "text/plain": [
              "weight     -0.450309\n",
              "calories   -0.393148\n",
              "sugars     -0.351434\n",
              "Name: PC2, dtype: float64"
            ]
          },
          "execution_count": 48,
          "metadata": {},
          "output_type": "execute_result"
        }
      ],
      "source": [
        "pcsComponents_df.PC2.nsmallest(3)"
      ]
    },
    {
      "cell_type": "markdown",
      "metadata": {
        "id": "EoOokbt_Mn8k"
      },
      "source": [
        "> * The cereal is low in calories and the amount per bowl (cups)\n",
        "> * The cereal high in protein, and potassium. \n",
        "> * This type of cereal is associated with a high consumer rating. \n",
        "\n",
        "> The second principal component is most affected by the weight of a serving (cups)\n",
        "\n",
        "> The third principal component by the carbohydrate (carbo) content"
      ]
    },
    {
      "cell_type": "code",
      "execution_count": null,
      "metadata": {
        "colab": {
          "base_uri": "https://localhost:8080/"
        },
        "id": "bKXEYFl1Vzp1",
        "outputId": "c32dd967-ef16-4615-f110-8cd2a3db9a22"
      },
      "outputs": [
        {
          "name": "stdout",
          "output_type": "stream",
          "text": [
            "******************************************************* End *******************************************************\n"
          ]
        }
      ],
      "source": [
        "print('*'*55,'End','*'*55)"
      ]
    },
    {
      "cell_type": "code",
      "execution_count": null,
      "metadata": {
        "id": "BZTOSYsjMn8k"
      },
      "outputs": [],
      "source": []
    },
    {
      "cell_type": "markdown",
      "source": [
        "#Actividad 4\n",
        "\n"
      ],
      "metadata": {
        "id": "13AHmSULp1uH"
      }
    },
    {
      "cell_type": "markdown",
      "source": [
        "Importamos librerias a usar"
      ],
      "metadata": {
        "id": "HP3rAtxSp8pH"
      }
    },
    {
      "cell_type": "code",
      "source": [
        "import pandas as pd\n",
        "import numpy as np\n",
        "import seaborn as sns\n",
        "import matplotlib as mpl\n",
        "import matplotlib.pyplot as plt\n",
        "from sklearn.decomposition import PCA\n",
        "from sklearn import preprocessing\n",
        "from sklearn.preprocessing import StandardScaler"
      ],
      "metadata": {
        "id": "icyNOQoSqDQ1"
      },
      "execution_count": 9,
      "outputs": []
    },
    {
      "cell_type": "markdown",
      "source": [
        "importamos el dataset"
      ],
      "metadata": {
        "id": "If7puBJuqEfz"
      }
    },
    {
      "cell_type": "code",
      "source": [
        "ClientsData='https://raw.githubusercontent.com/PosgradoMNA/Actividades_Aprendizaje-/main/default%20of%20credit%20card%20clients.csv'\n",
        "ClientsData_df = pd.read_csv(ClientsData)\n",
        "df = ClientsData_df.copy()\n",
        "df"
      ],
      "metadata": {
        "id": "tov96VyNqHN9",
        "outputId": "b512e49a-efab-49ac-92b1-faae90e65439",
        "colab": {
          "base_uri": "https://localhost:8080/",
          "height": 423
        }
      },
      "execution_count": 2,
      "outputs": [
        {
          "output_type": "execute_result",
          "data": {
            "text/plain": [
              "          ID      X1   X2   X3   X4    X5   X6   X7   X8   X9  ...      X15  \\\n",
              "0          1   20000  2.0  2.0  1.0  24.0  2.0  2.0 -1.0 -1.0  ...      0.0   \n",
              "1          2  120000  2.0  2.0  2.0  26.0 -1.0  2.0  0.0  0.0  ...   3272.0   \n",
              "2          3   90000  2.0  2.0  2.0  34.0  0.0  0.0  0.0  0.0  ...  14331.0   \n",
              "3          4   50000  2.0  2.0  1.0  37.0  0.0  0.0  0.0  0.0  ...  28314.0   \n",
              "4          5   50000  1.0  2.0  1.0  57.0 -1.0  0.0 -1.0  0.0  ...  20940.0   \n",
              "...      ...     ...  ...  ...  ...   ...  ...  ...  ...  ...  ...      ...   \n",
              "29995  29996  220000  1.0  3.0  1.0  39.0  0.0  0.0  0.0  0.0  ...  88004.0   \n",
              "29996  29997  150000  1.0  3.0  2.0  43.0 -1.0 -1.0 -1.0 -1.0  ...   8979.0   \n",
              "29997  29998   30000  1.0  2.0  2.0  37.0  4.0  3.0  2.0 -1.0  ...  20878.0   \n",
              "29998  29999   80000  1.0  3.0  1.0  41.0  1.0 -1.0  0.0  0.0  ...  52774.0   \n",
              "29999  30000   50000  1.0  2.0  1.0  46.0  0.0  0.0  0.0  0.0  ...  36535.0   \n",
              "\n",
              "           X16      X17      X18      X19      X20     X21      X22     X23  \\\n",
              "0          0.0      0.0      0.0    689.0      0.0     0.0      0.0     0.0   \n",
              "1       3455.0   3261.0      0.0   1000.0   1000.0  1000.0      0.0  2000.0   \n",
              "2      14948.0  15549.0   1518.0   1500.0   1000.0  1000.0   1000.0  5000.0   \n",
              "3      28959.0  29547.0   2000.0   2019.0   1200.0  1100.0   1069.0  1000.0   \n",
              "4      19146.0  19131.0   2000.0  36681.0  10000.0  9000.0    689.0   679.0   \n",
              "...        ...      ...      ...      ...      ...     ...      ...     ...   \n",
              "29995  31237.0  15980.0   8500.0  20000.0   5003.0  3047.0   5000.0  1000.0   \n",
              "29996   5190.0      0.0   1837.0   3526.0   8998.0   129.0      0.0     0.0   \n",
              "29997  20582.0  19357.0      0.0      0.0  22000.0  4200.0   2000.0  3100.0   \n",
              "29998  11855.0  48944.0  85900.0   3409.0   1178.0  1926.0  52964.0  1804.0   \n",
              "29999  32428.0  15313.0   2078.0   1800.0   1430.0  1000.0   1000.0  1000.0   \n",
              "\n",
              "         Y  \n",
              "0      1.0  \n",
              "1      1.0  \n",
              "2      0.0  \n",
              "3      0.0  \n",
              "4      0.0  \n",
              "...    ...  \n",
              "29995  0.0  \n",
              "29996  0.0  \n",
              "29997  1.0  \n",
              "29998  1.0  \n",
              "29999  1.0  \n",
              "\n",
              "[30000 rows x 25 columns]"
            ],
            "text/html": [
              "\n",
              "  <div id=\"df-36b23e2d-8223-4a56-9f9f-935bae1da6fa\">\n",
              "    <div class=\"colab-df-container\">\n",
              "      <div>\n",
              "<style scoped>\n",
              "    .dataframe tbody tr th:only-of-type {\n",
              "        vertical-align: middle;\n",
              "    }\n",
              "\n",
              "    .dataframe tbody tr th {\n",
              "        vertical-align: top;\n",
              "    }\n",
              "\n",
              "    .dataframe thead th {\n",
              "        text-align: right;\n",
              "    }\n",
              "</style>\n",
              "<table border=\"1\" class=\"dataframe\">\n",
              "  <thead>\n",
              "    <tr style=\"text-align: right;\">\n",
              "      <th></th>\n",
              "      <th>ID</th>\n",
              "      <th>X1</th>\n",
              "      <th>X2</th>\n",
              "      <th>X3</th>\n",
              "      <th>X4</th>\n",
              "      <th>X5</th>\n",
              "      <th>X6</th>\n",
              "      <th>X7</th>\n",
              "      <th>X8</th>\n",
              "      <th>X9</th>\n",
              "      <th>...</th>\n",
              "      <th>X15</th>\n",
              "      <th>X16</th>\n",
              "      <th>X17</th>\n",
              "      <th>X18</th>\n",
              "      <th>X19</th>\n",
              "      <th>X20</th>\n",
              "      <th>X21</th>\n",
              "      <th>X22</th>\n",
              "      <th>X23</th>\n",
              "      <th>Y</th>\n",
              "    </tr>\n",
              "  </thead>\n",
              "  <tbody>\n",
              "    <tr>\n",
              "      <th>0</th>\n",
              "      <td>1</td>\n",
              "      <td>20000</td>\n",
              "      <td>2.0</td>\n",
              "      <td>2.0</td>\n",
              "      <td>1.0</td>\n",
              "      <td>24.0</td>\n",
              "      <td>2.0</td>\n",
              "      <td>2.0</td>\n",
              "      <td>-1.0</td>\n",
              "      <td>-1.0</td>\n",
              "      <td>...</td>\n",
              "      <td>0.0</td>\n",
              "      <td>0.0</td>\n",
              "      <td>0.0</td>\n",
              "      <td>0.0</td>\n",
              "      <td>689.0</td>\n",
              "      <td>0.0</td>\n",
              "      <td>0.0</td>\n",
              "      <td>0.0</td>\n",
              "      <td>0.0</td>\n",
              "      <td>1.0</td>\n",
              "    </tr>\n",
              "    <tr>\n",
              "      <th>1</th>\n",
              "      <td>2</td>\n",
              "      <td>120000</td>\n",
              "      <td>2.0</td>\n",
              "      <td>2.0</td>\n",
              "      <td>2.0</td>\n",
              "      <td>26.0</td>\n",
              "      <td>-1.0</td>\n",
              "      <td>2.0</td>\n",
              "      <td>0.0</td>\n",
              "      <td>0.0</td>\n",
              "      <td>...</td>\n",
              "      <td>3272.0</td>\n",
              "      <td>3455.0</td>\n",
              "      <td>3261.0</td>\n",
              "      <td>0.0</td>\n",
              "      <td>1000.0</td>\n",
              "      <td>1000.0</td>\n",
              "      <td>1000.0</td>\n",
              "      <td>0.0</td>\n",
              "      <td>2000.0</td>\n",
              "      <td>1.0</td>\n",
              "    </tr>\n",
              "    <tr>\n",
              "      <th>2</th>\n",
              "      <td>3</td>\n",
              "      <td>90000</td>\n",
              "      <td>2.0</td>\n",
              "      <td>2.0</td>\n",
              "      <td>2.0</td>\n",
              "      <td>34.0</td>\n",
              "      <td>0.0</td>\n",
              "      <td>0.0</td>\n",
              "      <td>0.0</td>\n",
              "      <td>0.0</td>\n",
              "      <td>...</td>\n",
              "      <td>14331.0</td>\n",
              "      <td>14948.0</td>\n",
              "      <td>15549.0</td>\n",
              "      <td>1518.0</td>\n",
              "      <td>1500.0</td>\n",
              "      <td>1000.0</td>\n",
              "      <td>1000.0</td>\n",
              "      <td>1000.0</td>\n",
              "      <td>5000.0</td>\n",
              "      <td>0.0</td>\n",
              "    </tr>\n",
              "    <tr>\n",
              "      <th>3</th>\n",
              "      <td>4</td>\n",
              "      <td>50000</td>\n",
              "      <td>2.0</td>\n",
              "      <td>2.0</td>\n",
              "      <td>1.0</td>\n",
              "      <td>37.0</td>\n",
              "      <td>0.0</td>\n",
              "      <td>0.0</td>\n",
              "      <td>0.0</td>\n",
              "      <td>0.0</td>\n",
              "      <td>...</td>\n",
              "      <td>28314.0</td>\n",
              "      <td>28959.0</td>\n",
              "      <td>29547.0</td>\n",
              "      <td>2000.0</td>\n",
              "      <td>2019.0</td>\n",
              "      <td>1200.0</td>\n",
              "      <td>1100.0</td>\n",
              "      <td>1069.0</td>\n",
              "      <td>1000.0</td>\n",
              "      <td>0.0</td>\n",
              "    </tr>\n",
              "    <tr>\n",
              "      <th>4</th>\n",
              "      <td>5</td>\n",
              "      <td>50000</td>\n",
              "      <td>1.0</td>\n",
              "      <td>2.0</td>\n",
              "      <td>1.0</td>\n",
              "      <td>57.0</td>\n",
              "      <td>-1.0</td>\n",
              "      <td>0.0</td>\n",
              "      <td>-1.0</td>\n",
              "      <td>0.0</td>\n",
              "      <td>...</td>\n",
              "      <td>20940.0</td>\n",
              "      <td>19146.0</td>\n",
              "      <td>19131.0</td>\n",
              "      <td>2000.0</td>\n",
              "      <td>36681.0</td>\n",
              "      <td>10000.0</td>\n",
              "      <td>9000.0</td>\n",
              "      <td>689.0</td>\n",
              "      <td>679.0</td>\n",
              "      <td>0.0</td>\n",
              "    </tr>\n",
              "    <tr>\n",
              "      <th>...</th>\n",
              "      <td>...</td>\n",
              "      <td>...</td>\n",
              "      <td>...</td>\n",
              "      <td>...</td>\n",
              "      <td>...</td>\n",
              "      <td>...</td>\n",
              "      <td>...</td>\n",
              "      <td>...</td>\n",
              "      <td>...</td>\n",
              "      <td>...</td>\n",
              "      <td>...</td>\n",
              "      <td>...</td>\n",
              "      <td>...</td>\n",
              "      <td>...</td>\n",
              "      <td>...</td>\n",
              "      <td>...</td>\n",
              "      <td>...</td>\n",
              "      <td>...</td>\n",
              "      <td>...</td>\n",
              "      <td>...</td>\n",
              "      <td>...</td>\n",
              "    </tr>\n",
              "    <tr>\n",
              "      <th>29995</th>\n",
              "      <td>29996</td>\n",
              "      <td>220000</td>\n",
              "      <td>1.0</td>\n",
              "      <td>3.0</td>\n",
              "      <td>1.0</td>\n",
              "      <td>39.0</td>\n",
              "      <td>0.0</td>\n",
              "      <td>0.0</td>\n",
              "      <td>0.0</td>\n",
              "      <td>0.0</td>\n",
              "      <td>...</td>\n",
              "      <td>88004.0</td>\n",
              "      <td>31237.0</td>\n",
              "      <td>15980.0</td>\n",
              "      <td>8500.0</td>\n",
              "      <td>20000.0</td>\n",
              "      <td>5003.0</td>\n",
              "      <td>3047.0</td>\n",
              "      <td>5000.0</td>\n",
              "      <td>1000.0</td>\n",
              "      <td>0.0</td>\n",
              "    </tr>\n",
              "    <tr>\n",
              "      <th>29996</th>\n",
              "      <td>29997</td>\n",
              "      <td>150000</td>\n",
              "      <td>1.0</td>\n",
              "      <td>3.0</td>\n",
              "      <td>2.0</td>\n",
              "      <td>43.0</td>\n",
              "      <td>-1.0</td>\n",
              "      <td>-1.0</td>\n",
              "      <td>-1.0</td>\n",
              "      <td>-1.0</td>\n",
              "      <td>...</td>\n",
              "      <td>8979.0</td>\n",
              "      <td>5190.0</td>\n",
              "      <td>0.0</td>\n",
              "      <td>1837.0</td>\n",
              "      <td>3526.0</td>\n",
              "      <td>8998.0</td>\n",
              "      <td>129.0</td>\n",
              "      <td>0.0</td>\n",
              "      <td>0.0</td>\n",
              "      <td>0.0</td>\n",
              "    </tr>\n",
              "    <tr>\n",
              "      <th>29997</th>\n",
              "      <td>29998</td>\n",
              "      <td>30000</td>\n",
              "      <td>1.0</td>\n",
              "      <td>2.0</td>\n",
              "      <td>2.0</td>\n",
              "      <td>37.0</td>\n",
              "      <td>4.0</td>\n",
              "      <td>3.0</td>\n",
              "      <td>2.0</td>\n",
              "      <td>-1.0</td>\n",
              "      <td>...</td>\n",
              "      <td>20878.0</td>\n",
              "      <td>20582.0</td>\n",
              "      <td>19357.0</td>\n",
              "      <td>0.0</td>\n",
              "      <td>0.0</td>\n",
              "      <td>22000.0</td>\n",
              "      <td>4200.0</td>\n",
              "      <td>2000.0</td>\n",
              "      <td>3100.0</td>\n",
              "      <td>1.0</td>\n",
              "    </tr>\n",
              "    <tr>\n",
              "      <th>29998</th>\n",
              "      <td>29999</td>\n",
              "      <td>80000</td>\n",
              "      <td>1.0</td>\n",
              "      <td>3.0</td>\n",
              "      <td>1.0</td>\n",
              "      <td>41.0</td>\n",
              "      <td>1.0</td>\n",
              "      <td>-1.0</td>\n",
              "      <td>0.0</td>\n",
              "      <td>0.0</td>\n",
              "      <td>...</td>\n",
              "      <td>52774.0</td>\n",
              "      <td>11855.0</td>\n",
              "      <td>48944.0</td>\n",
              "      <td>85900.0</td>\n",
              "      <td>3409.0</td>\n",
              "      <td>1178.0</td>\n",
              "      <td>1926.0</td>\n",
              "      <td>52964.0</td>\n",
              "      <td>1804.0</td>\n",
              "      <td>1.0</td>\n",
              "    </tr>\n",
              "    <tr>\n",
              "      <th>29999</th>\n",
              "      <td>30000</td>\n",
              "      <td>50000</td>\n",
              "      <td>1.0</td>\n",
              "      <td>2.0</td>\n",
              "      <td>1.0</td>\n",
              "      <td>46.0</td>\n",
              "      <td>0.0</td>\n",
              "      <td>0.0</td>\n",
              "      <td>0.0</td>\n",
              "      <td>0.0</td>\n",
              "      <td>...</td>\n",
              "      <td>36535.0</td>\n",
              "      <td>32428.0</td>\n",
              "      <td>15313.0</td>\n",
              "      <td>2078.0</td>\n",
              "      <td>1800.0</td>\n",
              "      <td>1430.0</td>\n",
              "      <td>1000.0</td>\n",
              "      <td>1000.0</td>\n",
              "      <td>1000.0</td>\n",
              "      <td>1.0</td>\n",
              "    </tr>\n",
              "  </tbody>\n",
              "</table>\n",
              "<p>30000 rows × 25 columns</p>\n",
              "</div>\n",
              "      <button class=\"colab-df-convert\" onclick=\"convertToInteractive('df-36b23e2d-8223-4a56-9f9f-935bae1da6fa')\"\n",
              "              title=\"Convert this dataframe to an interactive table.\"\n",
              "              style=\"display:none;\">\n",
              "        \n",
              "  <svg xmlns=\"http://www.w3.org/2000/svg\" height=\"24px\"viewBox=\"0 0 24 24\"\n",
              "       width=\"24px\">\n",
              "    <path d=\"M0 0h24v24H0V0z\" fill=\"none\"/>\n",
              "    <path d=\"M18.56 5.44l.94 2.06.94-2.06 2.06-.94-2.06-.94-.94-2.06-.94 2.06-2.06.94zm-11 1L8.5 8.5l.94-2.06 2.06-.94-2.06-.94L8.5 2.5l-.94 2.06-2.06.94zm10 10l.94 2.06.94-2.06 2.06-.94-2.06-.94-.94-2.06-.94 2.06-2.06.94z\"/><path d=\"M17.41 7.96l-1.37-1.37c-.4-.4-.92-.59-1.43-.59-.52 0-1.04.2-1.43.59L10.3 9.45l-7.72 7.72c-.78.78-.78 2.05 0 2.83L4 21.41c.39.39.9.59 1.41.59.51 0 1.02-.2 1.41-.59l7.78-7.78 2.81-2.81c.8-.78.8-2.07 0-2.86zM5.41 20L4 18.59l7.72-7.72 1.47 1.35L5.41 20z\"/>\n",
              "  </svg>\n",
              "      </button>\n",
              "      \n",
              "  <style>\n",
              "    .colab-df-container {\n",
              "      display:flex;\n",
              "      flex-wrap:wrap;\n",
              "      gap: 12px;\n",
              "    }\n",
              "\n",
              "    .colab-df-convert {\n",
              "      background-color: #E8F0FE;\n",
              "      border: none;\n",
              "      border-radius: 50%;\n",
              "      cursor: pointer;\n",
              "      display: none;\n",
              "      fill: #1967D2;\n",
              "      height: 32px;\n",
              "      padding: 0 0 0 0;\n",
              "      width: 32px;\n",
              "    }\n",
              "\n",
              "    .colab-df-convert:hover {\n",
              "      background-color: #E2EBFA;\n",
              "      box-shadow: 0px 1px 2px rgba(60, 64, 67, 0.3), 0px 1px 3px 1px rgba(60, 64, 67, 0.15);\n",
              "      fill: #174EA6;\n",
              "    }\n",
              "\n",
              "    [theme=dark] .colab-df-convert {\n",
              "      background-color: #3B4455;\n",
              "      fill: #D2E3FC;\n",
              "    }\n",
              "\n",
              "    [theme=dark] .colab-df-convert:hover {\n",
              "      background-color: #434B5C;\n",
              "      box-shadow: 0px 1px 3px 1px rgba(0, 0, 0, 0.15);\n",
              "      filter: drop-shadow(0px 1px 2px rgba(0, 0, 0, 0.3));\n",
              "      fill: #FFFFFF;\n",
              "    }\n",
              "  </style>\n",
              "\n",
              "      <script>\n",
              "        const buttonEl =\n",
              "          document.querySelector('#df-36b23e2d-8223-4a56-9f9f-935bae1da6fa button.colab-df-convert');\n",
              "        buttonEl.style.display =\n",
              "          google.colab.kernel.accessAllowed ? 'block' : 'none';\n",
              "\n",
              "        async function convertToInteractive(key) {\n",
              "          const element = document.querySelector('#df-36b23e2d-8223-4a56-9f9f-935bae1da6fa');\n",
              "          const dataTable =\n",
              "            await google.colab.kernel.invokeFunction('convertToInteractive',\n",
              "                                                     [key], {});\n",
              "          if (!dataTable) return;\n",
              "\n",
              "          const docLinkHtml = 'Like what you see? Visit the ' +\n",
              "            '<a target=\"_blank\" href=https://colab.research.google.com/notebooks/data_table.ipynb>data table notebook</a>'\n",
              "            + ' to learn more about interactive tables.';\n",
              "          element.innerHTML = '';\n",
              "          dataTable['output_type'] = 'display_data';\n",
              "          await google.colab.output.renderOutput(dataTable, element);\n",
              "          const docLink = document.createElement('div');\n",
              "          docLink.innerHTML = docLinkHtml;\n",
              "          element.appendChild(docLink);\n",
              "        }\n",
              "      </script>\n",
              "    </div>\n",
              "  </div>\n",
              "  "
            ]
          },
          "metadata": {},
          "execution_count": 2
        }
      ]
    },
    {
      "cell_type": "markdown",
      "source": [
        "Quitamos la primer y ultima columna, que no aportan a el análisis"
      ],
      "metadata": {
        "id": "NZ8L_s32qNvR"
      }
    },
    {
      "cell_type": "code",
      "source": [
        "#remove first and last column\n",
        "df= df.iloc[:,1:24].dropna(axis=0)"
      ],
      "metadata": {
        "id": "WdVK1AL1qTgw"
      },
      "execution_count": 5,
      "outputs": []
    },
    {
      "cell_type": "markdown",
      "source": [
        "Normalizamos los datos, como lo requiere PCA, mediante scale hacemos la mediana 0 y la desviacion estandar 1"
      ],
      "metadata": {
        "id": "fSWGL4CqqWHh"
      }
    },
    {
      "cell_type": "code",
      "source": [
        "NormalizedData = preprocessing.scale(df) #median 0 standard deviation 1\n",
        "NormalizedData"
      ],
      "metadata": {
        "id": "J2Npfs4zqc3s",
        "outputId": "281cc92d-3832-40df-9fba-3c0dd602ddff",
        "colab": {
          "base_uri": "https://localhost:8080/"
        }
      },
      "execution_count": 10,
      "outputs": [
        {
          "output_type": "execute_result",
          "data": {
            "text/plain": [
              "array([[ 0.8096885 ,  0.18584882, -1.05708615, ..., -0.30810735,\n",
              "        -0.31412418, -0.29348473],\n",
              "       [ 0.8096885 ,  0.18584882,  0.85883054, ..., -0.24431534,\n",
              "        -0.31412418, -0.18105373],\n",
              "       [ 0.8096885 ,  0.18584882,  0.85883054, ..., -0.24431534,\n",
              "        -0.24870184, -0.01240721],\n",
              "       ...,\n",
              "       [-1.23504286,  0.18584882,  0.85883054, ..., -0.0401809 ,\n",
              "        -0.18327949, -0.11921667],\n",
              "       [-1.23504286,  1.45093833, -1.05708615, ..., -0.18524394,\n",
              "         3.15090487, -0.19207196],\n",
              "       [-1.23504286,  0.18584882, -1.05708615, ..., -0.24431534,\n",
              "        -0.24870184, -0.23726923]])"
            ]
          },
          "metadata": {},
          "execution_count": 10
        }
      ]
    },
    {
      "cell_type": "markdown",
      "source": [
        "corremos PCA sobre df"
      ],
      "metadata": {
        "id": "GCEaoHgPq578"
      }
    },
    {
      "cell_type": "code",
      "source": [
        "pcs = PCA()\n",
        "pcs.fit(preprocessing.scale(df)) \n",
        "                # Standardize a dataset along any axis.\n",
        "                # Center to the mean and component wise scale to unit variance.\n",
        "pcsSummary_df = pd.DataFrame({'Standard deviation': np.sqrt(pcs.explained_variance_),\n",
        "                             'Proportion of variance': pcs.explained_variance_ratio_,\n",
        "                             'Cumulative proportion': np.cumsum(pcs.explained_variance_ratio_)\n",
        "                             })\n",
        "\n",
        "pcsSummary_df = pcsSummary_df.transpose()\n",
        "pcsSummary_df.columns = ['PC{}'.format(i) for i in range(1, len(pcsSummary_df.columns) + 1)]\n",
        "pcsSummary_df.round(3) "
      ],
      "metadata": {
        "id": "YmHNiaoVq71F",
        "outputId": "74838be8-381b-4a7c-dc95-38705c7ad4d5",
        "colab": {
          "base_uri": "https://localhost:8080/",
          "height": 173
        }
      },
      "execution_count": 11,
      "outputs": [
        {
          "output_type": "execute_result",
          "data": {
            "text/plain": [
              "                          PC1    PC2    PC3    PC4    PC5    PC6    PC7  \\\n",
              "Standard deviation      2.553  1.936  1.245  1.211  1.010  0.957  0.944   \n",
              "Proportion of variance  0.296  0.170  0.070  0.067  0.046  0.042  0.041   \n",
              "Cumulative proportion   0.296  0.467  0.537  0.604  0.650  0.692  0.732   \n",
              "\n",
              "                          PC8    PC9   PC10  ...   PC13   PC14   PC15   PC16  \\\n",
              "Standard deviation      0.934  0.930  0.885  ...  0.750  0.635  0.510  0.499   \n",
              "Proportion of variance  0.040  0.039  0.036  ...  0.026  0.018  0.012  0.011   \n",
              "Cumulative proportion   0.772  0.811  0.847  ...  0.937  0.955  0.967  0.978   \n",
              "\n",
              "                         PC17   PC18   PC19   PC20   PC21   PC22  \n",
              "Standard deviation      0.435  0.363  0.265  0.202  0.159  0.152  \n",
              "Proportion of variance  0.009  0.006  0.003  0.002  0.001  0.001  \n",
              "Cumulative proportion   0.987  0.993  0.996  0.998  0.999  1.000  \n",
              "\n",
              "[3 rows x 22 columns]"
            ],
            "text/html": [
              "\n",
              "  <div id=\"df-e36aa906-1146-4521-bc12-307a8780196b\">\n",
              "    <div class=\"colab-df-container\">\n",
              "      <div>\n",
              "<style scoped>\n",
              "    .dataframe tbody tr th:only-of-type {\n",
              "        vertical-align: middle;\n",
              "    }\n",
              "\n",
              "    .dataframe tbody tr th {\n",
              "        vertical-align: top;\n",
              "    }\n",
              "\n",
              "    .dataframe thead th {\n",
              "        text-align: right;\n",
              "    }\n",
              "</style>\n",
              "<table border=\"1\" class=\"dataframe\">\n",
              "  <thead>\n",
              "    <tr style=\"text-align: right;\">\n",
              "      <th></th>\n",
              "      <th>PC1</th>\n",
              "      <th>PC2</th>\n",
              "      <th>PC3</th>\n",
              "      <th>PC4</th>\n",
              "      <th>PC5</th>\n",
              "      <th>PC6</th>\n",
              "      <th>PC7</th>\n",
              "      <th>PC8</th>\n",
              "      <th>PC9</th>\n",
              "      <th>PC10</th>\n",
              "      <th>...</th>\n",
              "      <th>PC13</th>\n",
              "      <th>PC14</th>\n",
              "      <th>PC15</th>\n",
              "      <th>PC16</th>\n",
              "      <th>PC17</th>\n",
              "      <th>PC18</th>\n",
              "      <th>PC19</th>\n",
              "      <th>PC20</th>\n",
              "      <th>PC21</th>\n",
              "      <th>PC22</th>\n",
              "    </tr>\n",
              "  </thead>\n",
              "  <tbody>\n",
              "    <tr>\n",
              "      <th>Standard deviation</th>\n",
              "      <td>2.553</td>\n",
              "      <td>1.936</td>\n",
              "      <td>1.245</td>\n",
              "      <td>1.211</td>\n",
              "      <td>1.010</td>\n",
              "      <td>0.957</td>\n",
              "      <td>0.944</td>\n",
              "      <td>0.934</td>\n",
              "      <td>0.930</td>\n",
              "      <td>0.885</td>\n",
              "      <td>...</td>\n",
              "      <td>0.750</td>\n",
              "      <td>0.635</td>\n",
              "      <td>0.510</td>\n",
              "      <td>0.499</td>\n",
              "      <td>0.435</td>\n",
              "      <td>0.363</td>\n",
              "      <td>0.265</td>\n",
              "      <td>0.202</td>\n",
              "      <td>0.159</td>\n",
              "      <td>0.152</td>\n",
              "    </tr>\n",
              "    <tr>\n",
              "      <th>Proportion of variance</th>\n",
              "      <td>0.296</td>\n",
              "      <td>0.170</td>\n",
              "      <td>0.070</td>\n",
              "      <td>0.067</td>\n",
              "      <td>0.046</td>\n",
              "      <td>0.042</td>\n",
              "      <td>0.041</td>\n",
              "      <td>0.040</td>\n",
              "      <td>0.039</td>\n",
              "      <td>0.036</td>\n",
              "      <td>...</td>\n",
              "      <td>0.026</td>\n",
              "      <td>0.018</td>\n",
              "      <td>0.012</td>\n",
              "      <td>0.011</td>\n",
              "      <td>0.009</td>\n",
              "      <td>0.006</td>\n",
              "      <td>0.003</td>\n",
              "      <td>0.002</td>\n",
              "      <td>0.001</td>\n",
              "      <td>0.001</td>\n",
              "    </tr>\n",
              "    <tr>\n",
              "      <th>Cumulative proportion</th>\n",
              "      <td>0.296</td>\n",
              "      <td>0.467</td>\n",
              "      <td>0.537</td>\n",
              "      <td>0.604</td>\n",
              "      <td>0.650</td>\n",
              "      <td>0.692</td>\n",
              "      <td>0.732</td>\n",
              "      <td>0.772</td>\n",
              "      <td>0.811</td>\n",
              "      <td>0.847</td>\n",
              "      <td>...</td>\n",
              "      <td>0.937</td>\n",
              "      <td>0.955</td>\n",
              "      <td>0.967</td>\n",
              "      <td>0.978</td>\n",
              "      <td>0.987</td>\n",
              "      <td>0.993</td>\n",
              "      <td>0.996</td>\n",
              "      <td>0.998</td>\n",
              "      <td>0.999</td>\n",
              "      <td>1.000</td>\n",
              "    </tr>\n",
              "  </tbody>\n",
              "</table>\n",
              "<p>3 rows × 22 columns</p>\n",
              "</div>\n",
              "      <button class=\"colab-df-convert\" onclick=\"convertToInteractive('df-e36aa906-1146-4521-bc12-307a8780196b')\"\n",
              "              title=\"Convert this dataframe to an interactive table.\"\n",
              "              style=\"display:none;\">\n",
              "        \n",
              "  <svg xmlns=\"http://www.w3.org/2000/svg\" height=\"24px\"viewBox=\"0 0 24 24\"\n",
              "       width=\"24px\">\n",
              "    <path d=\"M0 0h24v24H0V0z\" fill=\"none\"/>\n",
              "    <path d=\"M18.56 5.44l.94 2.06.94-2.06 2.06-.94-2.06-.94-.94-2.06-.94 2.06-2.06.94zm-11 1L8.5 8.5l.94-2.06 2.06-.94-2.06-.94L8.5 2.5l-.94 2.06-2.06.94zm10 10l.94 2.06.94-2.06 2.06-.94-2.06-.94-.94-2.06-.94 2.06-2.06.94z\"/><path d=\"M17.41 7.96l-1.37-1.37c-.4-.4-.92-.59-1.43-.59-.52 0-1.04.2-1.43.59L10.3 9.45l-7.72 7.72c-.78.78-.78 2.05 0 2.83L4 21.41c.39.39.9.59 1.41.59.51 0 1.02-.2 1.41-.59l7.78-7.78 2.81-2.81c.8-.78.8-2.07 0-2.86zM5.41 20L4 18.59l7.72-7.72 1.47 1.35L5.41 20z\"/>\n",
              "  </svg>\n",
              "      </button>\n",
              "      \n",
              "  <style>\n",
              "    .colab-df-container {\n",
              "      display:flex;\n",
              "      flex-wrap:wrap;\n",
              "      gap: 12px;\n",
              "    }\n",
              "\n",
              "    .colab-df-convert {\n",
              "      background-color: #E8F0FE;\n",
              "      border: none;\n",
              "      border-radius: 50%;\n",
              "      cursor: pointer;\n",
              "      display: none;\n",
              "      fill: #1967D2;\n",
              "      height: 32px;\n",
              "      padding: 0 0 0 0;\n",
              "      width: 32px;\n",
              "    }\n",
              "\n",
              "    .colab-df-convert:hover {\n",
              "      background-color: #E2EBFA;\n",
              "      box-shadow: 0px 1px 2px rgba(60, 64, 67, 0.3), 0px 1px 3px 1px rgba(60, 64, 67, 0.15);\n",
              "      fill: #174EA6;\n",
              "    }\n",
              "\n",
              "    [theme=dark] .colab-df-convert {\n",
              "      background-color: #3B4455;\n",
              "      fill: #D2E3FC;\n",
              "    }\n",
              "\n",
              "    [theme=dark] .colab-df-convert:hover {\n",
              "      background-color: #434B5C;\n",
              "      box-shadow: 0px 1px 3px 1px rgba(0, 0, 0, 0.15);\n",
              "      filter: drop-shadow(0px 1px 2px rgba(0, 0, 0, 0.3));\n",
              "      fill: #FFFFFF;\n",
              "    }\n",
              "  </style>\n",
              "\n",
              "      <script>\n",
              "        const buttonEl =\n",
              "          document.querySelector('#df-e36aa906-1146-4521-bc12-307a8780196b button.colab-df-convert');\n",
              "        buttonEl.style.display =\n",
              "          google.colab.kernel.accessAllowed ? 'block' : 'none';\n",
              "\n",
              "        async function convertToInteractive(key) {\n",
              "          const element = document.querySelector('#df-e36aa906-1146-4521-bc12-307a8780196b');\n",
              "          const dataTable =\n",
              "            await google.colab.kernel.invokeFunction('convertToInteractive',\n",
              "                                                     [key], {});\n",
              "          if (!dataTable) return;\n",
              "\n",
              "          const docLinkHtml = 'Like what you see? Visit the ' +\n",
              "            '<a target=\"_blank\" href=https://colab.research.google.com/notebooks/data_table.ipynb>data table notebook</a>'\n",
              "            + ' to learn more about interactive tables.';\n",
              "          element.innerHTML = '';\n",
              "          dataTable['output_type'] = 'display_data';\n",
              "          await google.colab.output.renderOutput(dataTable, element);\n",
              "          const docLink = document.createElement('div');\n",
              "          docLink.innerHTML = docLinkHtml;\n",
              "          element.appendChild(docLink);\n",
              "        }\n",
              "      </script>\n",
              "    </div>\n",
              "  </div>\n",
              "  "
            ]
          },
          "metadata": {},
          "execution_count": 11
        }
      ]
    },
    {
      "cell_type": "markdown",
      "source": [
        "hacemos la grafica Scree"
      ],
      "metadata": {
        "id": "4SD_6e2Bq_IB"
      }
    },
    {
      "cell_type": "code",
      "source": [
        "PC_components = np.arange(pcs.n_components_) + 1\n",
        "#PC_components\n",
        "\n",
        "_ = sns.set(style = 'whitegrid', \n",
        "            font_scale = 1.2\n",
        "            )\n",
        "\n",
        "fig, ax = plt.subplots(figsize=(10, 7))\n",
        "\n",
        "_ = sns.barplot(x = PC_components, \n",
        "                y = pcs.explained_variance_ratio_, \n",
        "                color = 'b'\n",
        "                )\n",
        "\n",
        "_ = sns.lineplot(x = PC_components-1, \n",
        "                 y = np.cumsum(pcs.explained_variance_ratio_), \n",
        "                 color = 'black', \n",
        "                 linestyle = '-', \n",
        "                 linewidth = 2, \n",
        "                 marker = 'o', \n",
        "                 markersize = 8\n",
        "\n",
        "                 )\n",
        "\n",
        "plt.title('Scree Plot')\n",
        "plt.xlabel('N-th Principal Component')\n",
        "plt.ylabel('Variance Explained')\n",
        "plt.ylim(0, 1)\n",
        "plt.show()"
      ],
      "metadata": {
        "id": "94y2HFWprA64",
        "outputId": "3af82816-37e7-4f4d-93b9-3213fc872b88",
        "colab": {
          "base_uri": "https://localhost:8080/",
          "height": 469
        }
      },
      "execution_count": 12,
      "outputs": [
        {
          "output_type": "display_data",
          "data": {
            "text/plain": [
              "<Figure size 720x504 with 1 Axes>"
            ],
            "image/png": "[encoded data removed]"
          },
          "metadata": {}
        }
      ]
    },
    {
      "cell_type": "markdown",
      "source": [
        "checamos donde esta arriba del 90% (nos fuimos moviendo el indice hasta encontar que en el 11 ya estaba arriba del 90)"
      ],
      "metadata": {
        "id": "138Y4FFLrDOg"
      }
    },
    {
      "cell_type": "code",
      "source": [
        "((pcsSummary_df.iloc[2][11])*100).round(0)"
      ],
      "metadata": {
        "id": "5DjUDDpirKUn",
        "outputId": "090e8709-ca1d-4d2b-f8c7-0e56f32a593b",
        "colab": {
          "base_uri": "https://localhost:8080/"
        }
      },
      "execution_count": 16,
      "outputs": [
        {
          "output_type": "execute_result",
          "data": {
            "text/plain": [
              "91.0"
            ]
          },
          "metadata": {},
          "execution_count": 16
        }
      ]
    },
    {
      "cell_type": "markdown",
      "source": [
        "Buscamos la relacion entre PCs y los headers de las columnas"
      ],
      "metadata": {
        "id": "9JznfmkPrdex"
      }
    },
    {
      "cell_type": "code",
      "source": [
        "pcsComponents_df = pd.DataFrame(pcs.components_.transpose(), \n",
        "                                columns=pcsSummary_df.columns,\n",
        "                                index=df.columns\n",
        "                                )\n",
        "pcsComponents_df.iloc[:,:11]"
      ],
      "metadata": {
        "id": "5rqGVYTRrWgR",
        "outputId": "d010ea45-d4b5-4edf-edc1-37f172990be9",
        "colab": {
          "base_uri": "https://localhost:8080/",
          "height": 739
        }
      },
      "execution_count": 18,
      "outputs": [
        {
          "output_type": "execute_result",
          "data": {
            "text/plain": [
              "          PC1       PC2       PC3       PC4       PC5       PC6       PC7  \\\n",
              "X2  -0.022419  0.031167  0.025721 -0.076016  0.949275 -0.077281  0.065924   \n",
              "X3   0.023014 -0.080962 -0.316852  0.258184  0.234921  0.014023 -0.295017   \n",
              "X4  -0.003804 -0.038185  0.460584 -0.433956 -0.105783  0.029777 -0.139421   \n",
              "X5   0.011760  0.062888 -0.469912  0.452924 -0.145249 -0.001162  0.063696   \n",
              "X6   0.169611 -0.305496 -0.019590  0.008141 -0.024119 -0.091317 -0.001775   \n",
              "X7   0.203612 -0.342905  0.014841  0.041140 -0.021908 -0.105926 -0.002375   \n",
              "X8   0.209864 -0.353898  0.057766  0.074386 -0.002511 -0.042539 -0.016570   \n",
              "X9   0.216538 -0.356158  0.084336  0.098662  0.020254  0.006965 -0.022740   \n",
              "X10  0.220028 -0.342547  0.104191  0.105390  0.031151  0.058949  0.017899   \n",
              "X11  0.214832 -0.314428  0.106816  0.101304  0.040390  0.072066  0.108118   \n",
              "X12  0.331110  0.164727 -0.146779 -0.164385 -0.021195 -0.050281 -0.038706   \n",
              "X13  0.342628  0.166844 -0.123044 -0.144166 -0.010292  0.018617 -0.080008   \n",
              "X14  0.346474  0.173573 -0.080358 -0.097827  0.008879  0.054177 -0.137139   \n",
              "X15  0.350505  0.171921 -0.067209 -0.094399  0.007266  0.088588 -0.026040   \n",
              "X16  0.348370  0.169527 -0.053556 -0.082778  0.012699  0.058067  0.129172   \n",
              "X17  0.341166  0.167085 -0.044687 -0.078355  0.006381 -0.079017  0.136910   \n",
              "X18  0.090286  0.161960  0.279945  0.294944  0.043037  0.324518 -0.236854   \n",
              "X19  0.074992  0.151438  0.299438  0.326582  0.052940  0.258784 -0.258160   \n",
              "X20  0.082220  0.162326  0.277961  0.290975  0.002690  0.230862  0.240488   \n",
              "X21  0.073822  0.150318  0.235295  0.246202  0.007924 -0.113954  0.630775   \n",
              "X22  0.071262  0.143541  0.192051  0.181235 -0.032598 -0.749752  0.003802   \n",
              "X23  0.065939  0.133518  0.206407  0.211312 -0.025416 -0.372681 -0.480652   \n",
              "\n",
              "          PC8       PC9      PC10      PC11  \n",
              "X2  -0.064455 -0.166040  0.028363 -0.008167  \n",
              "X3   0.210202  0.783328  0.032049 -0.008007  \n",
              "X4   0.105530  0.348092  0.023233 -0.015878  \n",
              "X5  -0.030739 -0.170876  0.014219 -0.019873  \n",
              "X6  -0.010409  0.042464  0.003587  0.045891  \n",
              "X7  -0.018891  0.032575  0.006510  0.028780  \n",
              "X8  -0.023017 -0.015446 -0.025364 -0.107088  \n",
              "X9   0.005697 -0.075751 -0.057907 -0.008364  \n",
              "X10  0.008491 -0.093586  0.066097  0.009046  \n",
              "X11 -0.031726 -0.062476  0.013965  0.022163  \n",
              "X12 -0.051863  0.040080  0.011981  0.010660  \n",
              "X13 -0.048917  0.012702 -0.036150 -0.132240  \n",
              "X14  0.056877 -0.048115 -0.121672  0.100329  \n",
              "X15  0.013710 -0.025926  0.124629  0.034658  \n",
              "X16 -0.049016  0.041203 -0.004535  0.047534  \n",
              "X17  0.106197  0.004445  0.015103 -0.005438  \n",
              "X18 -0.012808 -0.062024 -0.236463 -0.728556  \n",
              "X19  0.347563 -0.146391 -0.280934  0.596245  \n",
              "X20  0.024752  0.103136  0.784434  0.025525  \n",
              "X21 -0.266165  0.367140 -0.436373  0.074029  \n",
              "X22  0.510999 -0.096174  0.059661 -0.183568  \n",
              "X23 -0.679519  0.023050  0.112334  0.163979  "
            ],
            "text/html": [
              "\n",
              "  <div id=\"df-71ac697c-5fa6-48ff-81bb-4f3c9f2e75b7\">\n",
              "    <div class=\"colab-df-container\">\n",
              "      <div>\n",
              "<style scoped>\n",
              "    .dataframe tbody tr th:only-of-type {\n",
              "        vertical-align: middle;\n",
              "    }\n",
              "\n",
              "    .dataframe tbody tr th {\n",
              "        vertical-align: top;\n",
              "    }\n",
              "\n",
              "    .dataframe thead th {\n",
              "        text-align: right;\n",
              "    }\n",
              "</style>\n",
              "<table border=\"1\" class=\"dataframe\">\n",
              "  <thead>\n",
              "    <tr style=\"text-align: right;\">\n",
              "      <th></th>\n",
              "      <th>PC1</th>\n",
              "      <th>PC2</th>\n",
              "      <th>PC3</th>\n",
              "      <th>PC4</th>\n",
              "      <th>PC5</th>\n",
              "      <th>PC6</th>\n",
              "      <th>PC7</th>\n",
              "      <th>PC8</th>\n",
              "      <th>PC9</th>\n",
              "      <th>PC10</th>\n",
              "      <th>PC11</th>\n",
              "    </tr>\n",
              "  </thead>\n",
              "  <tbody>\n",
              "    <tr>\n",
              "      <th>X2</th>\n",
              "      <td>-0.022419</td>\n",
              "      <td>0.031167</td>\n",
              "      <td>0.025721</td>\n",
              "      <td>-0.076016</td>\n",
              "      <td>0.949275</td>\n",
              "      <td>-0.077281</td>\n",
              "      <td>0.065924</td>\n",
              "      <td>-0.064455</td>\n",
              "      <td>-0.166040</td>\n",
              "      <td>0.028363</td>\n",
              "      <td>-0.008167</td>\n",
              "    </tr>\n",
              "    <tr>\n",
              "      <th>X3</th>\n",
              "      <td>0.023014</td>\n",
              "      <td>-0.080962</td>\n",
              "      <td>-0.316852</td>\n",
              "      <td>0.258184</td>\n",
              "      <td>0.234921</td>\n",
              "      <td>0.014023</td>\n",
              "      <td>-0.295017</td>\n",
              "      <td>0.210202</td>\n",
              "      <td>0.783328</td>\n",
              "      <td>0.032049</td>\n",
              "      <td>-0.008007</td>\n",
              "    </tr>\n",
              "    <tr>\n",
              "      <th>X4</th>\n",
              "      <td>-0.003804</td>\n",
              "      <td>-0.038185</td>\n",
              "      <td>0.460584</td>\n",
              "      <td>-0.433956</td>\n",
              "      <td>-0.105783</td>\n",
              "      <td>0.029777</td>\n",
              "      <td>-0.139421</td>\n",
              "      <td>0.105530</td>\n",
              "      <td>0.348092</td>\n",
              "      <td>0.023233</td>\n",
              "      <td>-0.015878</td>\n",
              "    </tr>\n",
              "    <tr>\n",
              "      <th>X5</th>\n",
              "      <td>0.011760</td>\n",
              "      <td>0.062888</td>\n",
              "      <td>-0.469912</td>\n",
              "      <td>0.452924</td>\n",
              "      <td>-0.145249</td>\n",
              "      <td>-0.001162</td>\n",
              "      <td>0.063696</td>\n",
              "      <td>-0.030739</td>\n",
              "      <td>-0.170876</td>\n",
              "      <td>0.014219</td>\n",
              "      <td>-0.019873</td>\n",
              "    </tr>\n",
              "    <tr>\n",
              "      <th>X6</th>\n",
              "      <td>0.169611</td>\n",
              "      <td>-0.305496</td>\n",
              "      <td>-0.019590</td>\n",
              "      <td>0.008141</td>\n",
              "      <td>-0.024119</td>\n",
              "      <td>-0.091317</td>\n",
              "      <td>-0.001775</td>\n",
              "      <td>-0.010409</td>\n",
              "      <td>0.042464</td>\n",
              "      <td>0.003587</td>\n",
              "      <td>0.045891</td>\n",
              "    </tr>\n",
              "    <tr>\n",
              "      <th>X7</th>\n",
              "      <td>0.203612</td>\n",
              "      <td>-0.342905</td>\n",
              "      <td>0.014841</td>\n",
              "      <td>0.041140</td>\n",
              "      <td>-0.021908</td>\n",
              "      <td>-0.105926</td>\n",
              "      <td>-0.002375</td>\n",
              "      <td>-0.018891</td>\n",
              "      <td>0.032575</td>\n",
              "      <td>0.006510</td>\n",
              "      <td>0.028780</td>\n",
              "    </tr>\n",
              "    <tr>\n",
              "      <th>X8</th>\n",
              "      <td>0.209864</td>\n",
              "      <td>-0.353898</td>\n",
              "      <td>0.057766</td>\n",
              "      <td>0.074386</td>\n",
              "      <td>-0.002511</td>\n",
              "      <td>-0.042539</td>\n",
              "      <td>-0.016570</td>\n",
              "      <td>-0.023017</td>\n",
              "      <td>-0.015446</td>\n",
              "      <td>-0.025364</td>\n",
              "      <td>-0.107088</td>\n",
              "    </tr>\n",
              "    <tr>\n",
              "      <th>X9</th>\n",
              "      <td>0.216538</td>\n",
              "      <td>-0.356158</td>\n",
              "      <td>0.084336</td>\n",
              "      <td>0.098662</td>\n",
              "      <td>0.020254</td>\n",
              "      <td>0.006965</td>\n",
              "      <td>-0.022740</td>\n",
              "      <td>0.005697</td>\n",
              "      <td>-0.075751</td>\n",
              "      <td>-0.057907</td>\n",
              "      <td>-0.008364</td>\n",
              "    </tr>\n",
              "    <tr>\n",
              "      <th>X10</th>\n",
              "      <td>0.220028</td>\n",
              "      <td>-0.342547</td>\n",
              "      <td>0.104191</td>\n",
              "      <td>0.105390</td>\n",
              "      <td>0.031151</td>\n",
              "      <td>0.058949</td>\n",
              "      <td>0.017899</td>\n",
              "      <td>0.008491</td>\n",
              "      <td>-0.093586</td>\n",
              "      <td>0.066097</td>\n",
              "      <td>0.009046</td>\n",
              "    </tr>\n",
              "    <tr>\n",
              "      <th>X11</th>\n",
              "      <td>0.214832</td>\n",
              "      <td>-0.314428</td>\n",
              "      <td>0.106816</td>\n",
              "      <td>0.101304</td>\n",
              "      <td>0.040390</td>\n",
              "      <td>0.072066</td>\n",
              "      <td>0.108118</td>\n",
              "      <td>-0.031726</td>\n",
              "      <td>-0.062476</td>\n",
              "      <td>0.013965</td>\n",
              "      <td>0.022163</td>\n",
              "    </tr>\n",
              "    <tr>\n",
              "      <th>X12</th>\n",
              "      <td>0.331110</td>\n",
              "      <td>0.164727</td>\n",
              "      <td>-0.146779</td>\n",
              "      <td>-0.164385</td>\n",
              "      <td>-0.021195</td>\n",
              "      <td>-0.050281</td>\n",
              "      <td>-0.038706</td>\n",
              "      <td>-0.051863</td>\n",
              "      <td>0.040080</td>\n",
              "      <td>0.011981</td>\n",
              "      <td>0.010660</td>\n",
              "    </tr>\n",
              "    <tr>\n",
              "      <th>X13</th>\n",
              "      <td>0.342628</td>\n",
              "      <td>0.166844</td>\n",
              "      <td>-0.123044</td>\n",
              "      <td>-0.144166</td>\n",
              "      <td>-0.010292</td>\n",
              "      <td>0.018617</td>\n",
              "      <td>-0.080008</td>\n",
              "      <td>-0.048917</td>\n",
              "      <td>0.012702</td>\n",
              "      <td>-0.036150</td>\n",
              "      <td>-0.132240</td>\n",
              "    </tr>\n",
              "    <tr>\n",
              "      <th>X14</th>\n",
              "      <td>0.346474</td>\n",
              "      <td>0.173573</td>\n",
              "      <td>-0.080358</td>\n",
              "      <td>-0.097827</td>\n",
              "      <td>0.008879</td>\n",
              "      <td>0.054177</td>\n",
              "      <td>-0.137139</td>\n",
              "      <td>0.056877</td>\n",
              "      <td>-0.048115</td>\n",
              "      <td>-0.121672</td>\n",
              "      <td>0.100329</td>\n",
              "    </tr>\n",
              "    <tr>\n",
              "      <th>X15</th>\n",
              "      <td>0.350505</td>\n",
              "      <td>0.171921</td>\n",
              "      <td>-0.067209</td>\n",
              "      <td>-0.094399</td>\n",
              "      <td>0.007266</td>\n",
              "      <td>0.088588</td>\n",
              "      <td>-0.026040</td>\n",
              "      <td>0.013710</td>\n",
              "      <td>-0.025926</td>\n",
              "      <td>0.124629</td>\n",
              "      <td>0.034658</td>\n",
              "    </tr>\n",
              "    <tr>\n",
              "      <th>X16</th>\n",
              "      <td>0.348370</td>\n",
              "      <td>0.169527</td>\n",
              "      <td>-0.053556</td>\n",
              "      <td>-0.082778</td>\n",
              "      <td>0.012699</td>\n",
              "      <td>0.058067</td>\n",
              "      <td>0.129172</td>\n",
              "      <td>-0.049016</td>\n",
              "      <td>0.041203</td>\n",
              "      <td>-0.004535</td>\n",
              "      <td>0.047534</td>\n",
              "    </tr>\n",
              "    <tr>\n",
              "      <th>X17</th>\n",
              "      <td>0.341166</td>\n",
              "      <td>0.167085</td>\n",
              "      <td>-0.044687</td>\n",
              "      <td>-0.078355</td>\n",
              "      <td>0.006381</td>\n",
              "      <td>-0.079017</td>\n",
              "      <td>0.136910</td>\n",
              "      <td>0.106197</td>\n",
              "      <td>0.004445</td>\n",
              "      <td>0.015103</td>\n",
              "      <td>-0.005438</td>\n",
              "    </tr>\n",
              "    <tr>\n",
              "      <th>X18</th>\n",
              "      <td>0.090286</td>\n",
              "      <td>0.161960</td>\n",
              "      <td>0.279945</td>\n",
              "      <td>0.294944</td>\n",
              "      <td>0.043037</td>\n",
              "      <td>0.324518</td>\n",
              "      <td>-0.236854</td>\n",
              "      <td>-0.012808</td>\n",
              "      <td>-0.062024</td>\n",
              "      <td>-0.236463</td>\n",
              "      <td>-0.728556</td>\n",
              "    </tr>\n",
              "    <tr>\n",
              "      <th>X19</th>\n",
              "      <td>0.074992</td>\n",
              "      <td>0.151438</td>\n",
              "      <td>0.299438</td>\n",
              "      <td>0.326582</td>\n",
              "      <td>0.052940</td>\n",
              "      <td>0.258784</td>\n",
              "      <td>-0.258160</td>\n",
              "      <td>0.347563</td>\n",
              "      <td>-0.146391</td>\n",
              "      <td>-0.280934</td>\n",
              "      <td>0.596245</td>\n",
              "    </tr>\n",
              "    <tr>\n",
              "      <th>X20</th>\n",
              "      <td>0.082220</td>\n",
              "      <td>0.162326</td>\n",
              "      <td>0.277961</td>\n",
              "      <td>0.290975</td>\n",
              "      <td>0.002690</td>\n",
              "      <td>0.230862</td>\n",
              "      <td>0.240488</td>\n",
              "      <td>0.024752</td>\n",
              "      <td>0.103136</td>\n",
              "      <td>0.784434</td>\n",
              "      <td>0.025525</td>\n",
              "    </tr>\n",
              "    <tr>\n",
              "      <th>X21</th>\n",
              "      <td>0.073822</td>\n",
              "      <td>0.150318</td>\n",
              "      <td>0.235295</td>\n",
              "      <td>0.246202</td>\n",
              "      <td>0.007924</td>\n",
              "      <td>-0.113954</td>\n",
              "      <td>0.630775</td>\n",
              "      <td>-0.266165</td>\n",
              "      <td>0.367140</td>\n",
              "      <td>-0.436373</td>\n",
              "      <td>0.074029</td>\n",
              "    </tr>\n",
              "    <tr>\n",
              "      <th>X22</th>\n",
              "      <td>0.071262</td>\n",
              "      <td>0.143541</td>\n",
              "      <td>0.192051</td>\n",
              "      <td>0.181235</td>\n",
              "      <td>-0.032598</td>\n",
              "      <td>-0.749752</td>\n",
              "      <td>0.003802</td>\n",
              "      <td>0.510999</td>\n",
              "      <td>-0.096174</td>\n",
              "      <td>0.059661</td>\n",
              "      <td>-0.183568</td>\n",
              "    </tr>\n",
              "    <tr>\n",
              "      <th>X23</th>\n",
              "      <td>0.065939</td>\n",
              "      <td>0.133518</td>\n",
              "      <td>0.206407</td>\n",
              "      <td>0.211312</td>\n",
              "      <td>-0.025416</td>\n",
              "      <td>-0.372681</td>\n",
              "      <td>-0.480652</td>\n",
              "      <td>-0.679519</td>\n",
              "      <td>0.023050</td>\n",
              "      <td>0.112334</td>\n",
              "      <td>0.163979</td>\n",
              "    </tr>\n",
              "  </tbody>\n",
              "</table>\n",
              "</div>\n",
              "      <button class=\"colab-df-convert\" onclick=\"convertToInteractive('df-71ac697c-5fa6-48ff-81bb-4f3c9f2e75b7')\"\n",
              "              title=\"Convert this dataframe to an interactive table.\"\n",
              "              style=\"display:none;\">\n",
              "        \n",
              "  <svg xmlns=\"http://www.w3.org/2000/svg\" height=\"24px\"viewBox=\"0 0 24 24\"\n",
              "       width=\"24px\">\n",
              "    <path d=\"M0 0h24v24H0V0z\" fill=\"none\"/>\n",
              "    <path d=\"M18.56 5.44l.94 2.06.94-2.06 2.06-.94-2.06-.94-.94-2.06-.94 2.06-2.06.94zm-11 1L8.5 8.5l.94-2.06 2.06-.94-2.06-.94L8.5 2.5l-.94 2.06-2.06.94zm10 10l.94 2.06.94-2.06 2.06-.94-2.06-.94-.94-2.06-.94 2.06-2.06.94z\"/><path d=\"M17.41 7.96l-1.37-1.37c-.4-.4-.92-.59-1.43-.59-.52 0-1.04.2-1.43.59L10.3 9.45l-7.72 7.72c-.78.78-.78 2.05 0 2.83L4 21.41c.39.39.9.59 1.41.59.51 0 1.02-.2 1.41-.59l7.78-7.78 2.81-2.81c.8-.78.8-2.07 0-2.86zM5.41 20L4 18.59l7.72-7.72 1.47 1.35L5.41 20z\"/>\n",
              "  </svg>\n",
              "      </button>\n",
              "      \n",
              "  <style>\n",
              "    .colab-df-container {\n",
              "      display:flex;\n",
              "      flex-wrap:wrap;\n",
              "      gap: 12px;\n",
              "    }\n",
              "\n",
              "    .colab-df-convert {\n",
              "      background-color: #E8F0FE;\n",
              "      border: none;\n",
              "      border-radius: 50%;\n",
              "      cursor: pointer;\n",
              "      display: none;\n",
              "      fill: #1967D2;\n",
              "      height: 32px;\n",
              "      padding: 0 0 0 0;\n",
              "      width: 32px;\n",
              "    }\n",
              "\n",
              "    .colab-df-convert:hover {\n",
              "      background-color: #E2EBFA;\n",
              "      box-shadow: 0px 1px 2px rgba(60, 64, 67, 0.3), 0px 1px 3px 1px rgba(60, 64, 67, 0.15);\n",
              "      fill: #174EA6;\n",
              "    }\n",
              "\n",
              "    [theme=dark] .colab-df-convert {\n",
              "      background-color: #3B4455;\n",
              "      fill: #D2E3FC;\n",
              "    }\n",
              "\n",
              "    [theme=dark] .colab-df-convert:hover {\n",
              "      background-color: #434B5C;\n",
              "      box-shadow: 0px 1px 3px 1px rgba(0, 0, 0, 0.15);\n",
              "      filter: drop-shadow(0px 1px 2px rgba(0, 0, 0, 0.3));\n",
              "      fill: #FFFFFF;\n",
              "    }\n",
              "  </style>\n",
              "\n",
              "      <script>\n",
              "        const buttonEl =\n",
              "          document.querySelector('#df-71ac697c-5fa6-48ff-81bb-4f3c9f2e75b7 button.colab-df-convert');\n",
              "        buttonEl.style.display =\n",
              "          google.colab.kernel.accessAllowed ? 'block' : 'none';\n",
              "\n",
              "        async function convertToInteractive(key) {\n",
              "          const element = document.querySelector('#df-71ac697c-5fa6-48ff-81bb-4f3c9f2e75b7');\n",
              "          const dataTable =\n",
              "            await google.colab.kernel.invokeFunction('convertToInteractive',\n",
              "                                                     [key], {});\n",
              "          if (!dataTable) return;\n",
              "\n",
              "          const docLinkHtml = 'Like what you see? Visit the ' +\n",
              "            '<a target=\"_blank\" href=https://colab.research.google.com/notebooks/data_table.ipynb>data table notebook</a>'\n",
              "            + ' to learn more about interactive tables.';\n",
              "          element.innerHTML = '';\n",
              "          dataTable['output_type'] = 'display_data';\n",
              "          await google.colab.output.renderOutput(dataTable, element);\n",
              "          const docLink = document.createElement('div');\n",
              "          docLink.innerHTML = docLinkHtml;\n",
              "          element.appendChild(docLink);\n",
              "        }\n",
              "      </script>\n",
              "    </div>\n",
              "  </div>\n",
              "  "
            ]
          },
          "metadata": {},
          "execution_count": 18
        }
      ]
    },
    {
      "cell_type": "code",
      "source": [
        "pcsComponents_df.PC1.nlargest(1)\n",
        "\n"
      ],
      "metadata": {
        "id": "Dahtgb2Srcea",
        "outputId": "60076ca8-df45-4343-87b9-92f0be0927a2",
        "colab": {
          "base_uri": "https://localhost:8080/"
        }
      },
      "execution_count": 22,
      "outputs": [
        {
          "output_type": "execute_result",
          "data": {
            "text/plain": [
              "X15    0.350505\n",
              "Name: PC1, dtype: float64"
            ]
          },
          "metadata": {},
          "execution_count": 22
        }
      ]
    },
    {
      "cell_type": "code",
      "source": [
        "pcsComponents_df.PC2.nlargest(1)\n"
      ],
      "metadata": {
        "id": "0UYC0jzQruH-",
        "outputId": "2c6e8c8a-52fa-450d-bc88-83741ce90000",
        "colab": {
          "base_uri": "https://localhost:8080/"
        }
      },
      "execution_count": 23,
      "outputs": [
        {
          "output_type": "execute_result",
          "data": {
            "text/plain": [
              "X14    0.173573\n",
              "Name: PC2, dtype: float64"
            ]
          },
          "metadata": {},
          "execution_count": 23
        }
      ]
    }
  ],
  "metadata": {
    "colab": {
      "collapsed_sections": [],
      "provenance": [],
      "include_colab_link": true
    },
    "kernelspec": {
      "display_name": "Python 3 (ipykernel)",
      "language": "python",
      "name": "python3"
    },
    "language_info": {
      "codemirror_mode": {
        "name": "ipython",
        "version": 3
      },
      "file_extension": ".py",
      "mimetype": "text/x-python",
      "name": "python",
      "nbconvert_exporter": "python",
      "pygments_lexer": "ipython3",
      "version": "3.9.5"
    }
  },
  "nbformat": 4,
  "nbformat_minor": 0
}