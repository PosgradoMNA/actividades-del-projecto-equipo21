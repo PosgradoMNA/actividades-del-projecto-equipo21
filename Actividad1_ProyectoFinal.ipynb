{
  "nbformat": 4,
  "nbformat_minor": 0,
  "metadata": {
    "colab": {
      "provenance": [],
      "collapsed_sections": [],
      "authorship_tag": "ABX9TyNiIhpXWsAkzqNJ8d7ER71G",
      "include_colab_link": true
    },
    "kernelspec": {
      "name": "python3",
      "display_name": "Python 3"
    },
    "language_info": {
      "name": "python"
    }
  },
  "cells": [
    {
      "cell_type": "markdown",
      "metadata": {
        "id": "view-in-github",
        "colab_type": "text"
      },
      "source": [
        "<a href=\"https://colab.research.google.com/github/PosgradoMNA/actividades-del-projecto-equipo21/blob/main/Actividad1_ProyectoFinal.ipynb\" target=\"_parent\"><img src=\"https://colab.research.google.com/assets/colab-badge.svg\" alt=\"Open In Colab\"/></a>"
      ]
    },
    {
      "cell_type": "markdown",
      "source": [
        "\n",
        "# Actividad1 Equipo 21\n",
        "---"
      ],
      "metadata": {
        "id": "NtPmV7wqXg-w"
      }
    },
    {
      "cell_type": "markdown",
      "source": [
        "## El nombre que caracteriza el conjunto de datos.\n",
        "R3enuncias de los empleados\n",
        "\n",
        "## La organización que lo generó.\n",
        "Base tomada de Kaggle, de datos provenientes de IBM\n",
        "\n",
        "## Incluya un enlace de Internet donde se puedan descargar en línea y enviar como una hoja de cálculo junto con su informe correspondiente.\n",
        "https://www.kaggle.com/datasets/patelprashant/employee-attrition?resource=download\n",
        "\n",
        "## Describe el conjunto de datos. ¿Qué datos contiene?\n",
        "1470 datos de empleados que mencionan los siguientes atributos:\n",
        "  Edad\n",
        "  Si renunció o no\n",
        "  Frecuencia de viajes de trabajo\n",
        "  Ingreso\n",
        "  Departamento\n",
        "  Distancia al trabajo\n",
        "  Educacion\n",
        "  Satisfacción laboral\n",
        "  Desempeño\n",
        "  entre otros datos\n",
        "  \n",
        "## ¿Cuáles son algunas de las preguntas de investigación que podría responder con estos datos? Enumere al menos OCHO (no responda las preguntas).\n",
        "  1. Cuales son los principales factores que desencadenan la renuncia de los empleados\n",
        "  2. Como afectan los factores laborales a las renuncias (desempeño, incrementos)\n",
        "  3. Como afectan los factores extralaborales a las renuncias (distancia de casa, estado civil)\n",
        "  4. Que acciones se pueden tomar para minimizar renucias\n",
        "  5. Identificacion de asociados con mayor probabilidad a renunciar\n",
        "  6. Que relación hay entre las horas trabajadas con las renuncias\n",
        "  7. Que relación hay entre los entrenamientos tomados y las renuncias\n",
        "  8. Que relación hay entre la antiguedad y las renuncias\n",
        "\n",
        "## ¿Qué actor (empresa, sector de la sociedad, organismo descentralizado, gobierno, etc.) estaría interesado en las preguntas mencionadas que identificó?\n",
        "Toda empresa que tenga empleados que haya o sea propensa a sufrir renuncias."
      ],
      "metadata": {
        "id": "xe62ldYHXoyj"
      }
    }
  ]
}